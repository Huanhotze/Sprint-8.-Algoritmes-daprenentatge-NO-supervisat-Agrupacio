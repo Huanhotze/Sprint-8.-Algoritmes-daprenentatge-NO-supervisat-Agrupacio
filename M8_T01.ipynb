{
  "nbformat": 4,
  "nbformat_minor": 0,
  "metadata": {
    "colab": {
      "provenance": [],
      "collapsed_sections": [
        "JCMfN8Dv0l03",
        "f6dbf2c8",
        "DBvoEQItKmIE",
        "MWtFA90lQjhv",
        "lCGJNNhW6jeS",
        "-Yf39jUJK2g8",
        "6YJAGjdQxznP",
        "tD4lE3POxFek",
        "fp3II_TP5UKd",
        "toqELz0i5gPN",
        "biyi_rcW5BoT"
      ]
    },
    "kernelspec": {
      "name": "python3",
      "display_name": "Python 3"
    },
    "language_info": {
      "name": "python"
    }
  },
  "cells": [
    {
      "cell_type": "markdown",
      "metadata": {
        "id": "5818753a"
      },
      "source": [
        "# Tasca M8 T01"
      ]
    },
    {
      "cell_type": "markdown",
      "source": [
        "##### Importing libraries"
      ],
      "metadata": {
        "id": "JCMfN8Dv0l03"
      }
    },
    {
      "cell_type": "code",
      "source": [
        "# importing libraries\n",
        "import numpy as np\n",
        "import pandas as pd\n",
        "import matplotlib.pyplot as plt\n",
        "import seaborn as sns\n",
        "\n",
        "from sklearn.decomposition import PCA\n",
        "from sklearn.preprocessing import LabelEncoder\n",
        "\n",
        "#Preprocesamiento\n",
        "from sklearn.preprocessing import RobustScaler\n",
        "from sklearn.preprocessing import MinMaxScaler\n",
        "\n",
        "#Clustering\n",
        "from sklearn.cluster import KMeans\n",
        "from sklearn.cluster import AgglomerativeClustering\n",
        "from scipy.cluster.hierarchy import linkage\n",
        "from scipy.cluster.hierarchy import dendrogram\n",
        "from scipy.cluster.hierarchy import cut_tree\n",
        "from sklearn.metrics import silhouette_score\n",
        "import scipy.cluster.hierarchy as shc\n",
        "!pip install kneed # To install only knee-detection algorithm\n",
        "from kneed import DataGenerator, KneeLocator"
      ],
      "metadata": {
        "id": "3si8SYT-hzuy",
        "colab": {
          "base_uri": "https://localhost:8080/"
        },
        "outputId": "9c1604e3-03c8-4355-e267-ddc8f49a39cc"
      },
      "execution_count": 125,
      "outputs": [
        {
          "output_type": "stream",
          "name": "stdout",
          "text": [
            "Looking in indexes: https://pypi.org/simple, https://us-python.pkg.dev/colab-wheels/public/simple/\n",
            "Collecting kneed\n",
            "  Downloading kneed-0.8.1-py2.py3-none-any.whl (10 kB)\n",
            "Requirement already satisfied: scipy>=1.0.0 in /usr/local/lib/python3.7/dist-packages (from kneed) (1.7.3)\n",
            "Requirement already satisfied: numpy>=1.14.2 in /usr/local/lib/python3.7/dist-packages (from kneed) (1.21.6)\n",
            "Installing collected packages: kneed\n",
            "Successfully installed kneed-0.8.1\n"
          ]
        }
      ]
    },
    {
      "cell_type": "markdown",
      "metadata": {
        "id": "f6dbf2c8"
      },
      "source": [
        "## Exercici 1\n",
        "### Descarrega el dataset adjunt, de registres de publicacions a Facebook sobre Tailàndia, i classifica els diferents registres utilitzant l'algorisme de K-means."
      ]
    },
    {
      "cell_type": "markdown",
      "source": [
        "#### Carga, analisis y \"cleaning\" del DataFrame"
      ],
      "metadata": {
        "id": "DBvoEQItKmIE"
      }
    },
    {
      "cell_type": "markdown",
      "source": [
        "Vamos a trabajar sobre un dataset con datos de Facebook Thailandia sobre las reacciones a 4 diferentes tipos de publicaciones ['video', 'photo', 'link', 'status'].\n",
        "\n",
        "Además del tipo de reacción, nos encontramos la columna con fecha y hora de publicación así como la columna de número de reacciones generadas por la publicación, las veces que se ha compartido y el número de \"likes\". Adicionalmente las reacciones están subdivididas por tipo de reacción (num_shares, num_likes, num_loves, num_wows, num_hahas, num_sads, num_angrys) \n",
        "\n",
        "Finalmente hay 4 columnas sin información relevante que eliminaremos junto con la columna status_id ya que la información que contiene no tiene ninguna utilidad para nosotros.\n",
        "\n"
      ],
      "metadata": {
        "id": "0Id3O7JX_MV6"
      }
    },
    {
      "cell_type": "code",
      "source": [
        "#https://github.com/Huanhotze/Sprint-8.-Algoritmes-daprenentatge-NO-supervisat-Agrupacio/blob/main/M8%20DATA/Publicacions%20Facebook%20Thailandia.csv\n",
        "url = 'https://raw.githubusercontent.com/Huanhotze/Sprint-8.-Algoritmes-daprenentatge-NO-supervisat-Agrupacio/main/M8%20DATA/Publicacions%20Facebook%20Thailandia.csv'\n",
        "df = pd.read_csv(url)\n",
        "df.head()"
      ],
      "metadata": {
        "id": "JLI00EPcw0iz",
        "colab": {
          "base_uri": "https://localhost:8080/",
          "height": 270
        },
        "outputId": "5dd0e278-9f3b-4946-cdd4-7e99787661d4"
      },
      "execution_count": 70,
      "outputs": [
        {
          "output_type": "execute_result",
          "data": {
            "text/plain": [
              "                          status_id status_type status_published  \\\n",
              "0  246675545449582_1649696485147474       video   4/22/2018 6:00   \n",
              "1  246675545449582_1649426988507757       photo  4/21/2018 22:45   \n",
              "2  246675545449582_1648730588577397       video   4/21/2018 6:17   \n",
              "3  246675545449582_1648576705259452       photo   4/21/2018 2:29   \n",
              "4  246675545449582_1645700502213739       photo   4/18/2018 3:22   \n",
              "\n",
              "   num_reactions  num_comments  num_shares  num_likes  num_loves  num_wows  \\\n",
              "0            529           512         262        432         92         3   \n",
              "1            150             0           0        150          0         0   \n",
              "2            227           236          57        204         21         1   \n",
              "3            111             0           0        111          0         0   \n",
              "4            213             0           0        204          9         0   \n",
              "\n",
              "   num_hahas  num_sads  num_angrys  Column1  Column2  Column3  Column4  \n",
              "0          1         1           0      NaN      NaN      NaN      NaN  \n",
              "1          0         0           0      NaN      NaN      NaN      NaN  \n",
              "2          1         0           0      NaN      NaN      NaN      NaN  \n",
              "3          0         0           0      NaN      NaN      NaN      NaN  \n",
              "4          0         0           0      NaN      NaN      NaN      NaN  "
            ],
            "text/html": [
              "\n",
              "  <div id=\"df-502c817f-ebaf-4a5b-870a-33f244ce392c\">\n",
              "    <div class=\"colab-df-container\">\n",
              "      <div>\n",
              "<style scoped>\n",
              "    .dataframe tbody tr th:only-of-type {\n",
              "        vertical-align: middle;\n",
              "    }\n",
              "\n",
              "    .dataframe tbody tr th {\n",
              "        vertical-align: top;\n",
              "    }\n",
              "\n",
              "    .dataframe thead th {\n",
              "        text-align: right;\n",
              "    }\n",
              "</style>\n",
              "<table border=\"1\" class=\"dataframe\">\n",
              "  <thead>\n",
              "    <tr style=\"text-align: right;\">\n",
              "      <th></th>\n",
              "      <th>status_id</th>\n",
              "      <th>status_type</th>\n",
              "      <th>status_published</th>\n",
              "      <th>num_reactions</th>\n",
              "      <th>num_comments</th>\n",
              "      <th>num_shares</th>\n",
              "      <th>num_likes</th>\n",
              "      <th>num_loves</th>\n",
              "      <th>num_wows</th>\n",
              "      <th>num_hahas</th>\n",
              "      <th>num_sads</th>\n",
              "      <th>num_angrys</th>\n",
              "      <th>Column1</th>\n",
              "      <th>Column2</th>\n",
              "      <th>Column3</th>\n",
              "      <th>Column4</th>\n",
              "    </tr>\n",
              "  </thead>\n",
              "  <tbody>\n",
              "    <tr>\n",
              "      <th>0</th>\n",
              "      <td>246675545449582_1649696485147474</td>\n",
              "      <td>video</td>\n",
              "      <td>4/22/2018 6:00</td>\n",
              "      <td>529</td>\n",
              "      <td>512</td>\n",
              "      <td>262</td>\n",
              "      <td>432</td>\n",
              "      <td>92</td>\n",
              "      <td>3</td>\n",
              "      <td>1</td>\n",
              "      <td>1</td>\n",
              "      <td>0</td>\n",
              "      <td>NaN</td>\n",
              "      <td>NaN</td>\n",
              "      <td>NaN</td>\n",
              "      <td>NaN</td>\n",
              "    </tr>\n",
              "    <tr>\n",
              "      <th>1</th>\n",
              "      <td>246675545449582_1649426988507757</td>\n",
              "      <td>photo</td>\n",
              "      <td>4/21/2018 22:45</td>\n",
              "      <td>150</td>\n",
              "      <td>0</td>\n",
              "      <td>0</td>\n",
              "      <td>150</td>\n",
              "      <td>0</td>\n",
              "      <td>0</td>\n",
              "      <td>0</td>\n",
              "      <td>0</td>\n",
              "      <td>0</td>\n",
              "      <td>NaN</td>\n",
              "      <td>NaN</td>\n",
              "      <td>NaN</td>\n",
              "      <td>NaN</td>\n",
              "    </tr>\n",
              "    <tr>\n",
              "      <th>2</th>\n",
              "      <td>246675545449582_1648730588577397</td>\n",
              "      <td>video</td>\n",
              "      <td>4/21/2018 6:17</td>\n",
              "      <td>227</td>\n",
              "      <td>236</td>\n",
              "      <td>57</td>\n",
              "      <td>204</td>\n",
              "      <td>21</td>\n",
              "      <td>1</td>\n",
              "      <td>1</td>\n",
              "      <td>0</td>\n",
              "      <td>0</td>\n",
              "      <td>NaN</td>\n",
              "      <td>NaN</td>\n",
              "      <td>NaN</td>\n",
              "      <td>NaN</td>\n",
              "    </tr>\n",
              "    <tr>\n",
              "      <th>3</th>\n",
              "      <td>246675545449582_1648576705259452</td>\n",
              "      <td>photo</td>\n",
              "      <td>4/21/2018 2:29</td>\n",
              "      <td>111</td>\n",
              "      <td>0</td>\n",
              "      <td>0</td>\n",
              "      <td>111</td>\n",
              "      <td>0</td>\n",
              "      <td>0</td>\n",
              "      <td>0</td>\n",
              "      <td>0</td>\n",
              "      <td>0</td>\n",
              "      <td>NaN</td>\n",
              "      <td>NaN</td>\n",
              "      <td>NaN</td>\n",
              "      <td>NaN</td>\n",
              "    </tr>\n",
              "    <tr>\n",
              "      <th>4</th>\n",
              "      <td>246675545449582_1645700502213739</td>\n",
              "      <td>photo</td>\n",
              "      <td>4/18/2018 3:22</td>\n",
              "      <td>213</td>\n",
              "      <td>0</td>\n",
              "      <td>0</td>\n",
              "      <td>204</td>\n",
              "      <td>9</td>\n",
              "      <td>0</td>\n",
              "      <td>0</td>\n",
              "      <td>0</td>\n",
              "      <td>0</td>\n",
              "      <td>NaN</td>\n",
              "      <td>NaN</td>\n",
              "      <td>NaN</td>\n",
              "      <td>NaN</td>\n",
              "    </tr>\n",
              "  </tbody>\n",
              "</table>\n",
              "</div>\n",
              "      <button class=\"colab-df-convert\" onclick=\"convertToInteractive('df-502c817f-ebaf-4a5b-870a-33f244ce392c')\"\n",
              "              title=\"Convert this dataframe to an interactive table.\"\n",
              "              style=\"display:none;\">\n",
              "        \n",
              "  <svg xmlns=\"http://www.w3.org/2000/svg\" height=\"24px\"viewBox=\"0 0 24 24\"\n",
              "       width=\"24px\">\n",
              "    <path d=\"M0 0h24v24H0V0z\" fill=\"none\"/>\n",
              "    <path d=\"M18.56 5.44l.94 2.06.94-2.06 2.06-.94-2.06-.94-.94-2.06-.94 2.06-2.06.94zm-11 1L8.5 8.5l.94-2.06 2.06-.94-2.06-.94L8.5 2.5l-.94 2.06-2.06.94zm10 10l.94 2.06.94-2.06 2.06-.94-2.06-.94-.94-2.06-.94 2.06-2.06.94z\"/><path d=\"M17.41 7.96l-1.37-1.37c-.4-.4-.92-.59-1.43-.59-.52 0-1.04.2-1.43.59L10.3 9.45l-7.72 7.72c-.78.78-.78 2.05 0 2.83L4 21.41c.39.39.9.59 1.41.59.51 0 1.02-.2 1.41-.59l7.78-7.78 2.81-2.81c.8-.78.8-2.07 0-2.86zM5.41 20L4 18.59l7.72-7.72 1.47 1.35L5.41 20z\"/>\n",
              "  </svg>\n",
              "      </button>\n",
              "      \n",
              "  <style>\n",
              "    .colab-df-container {\n",
              "      display:flex;\n",
              "      flex-wrap:wrap;\n",
              "      gap: 12px;\n",
              "    }\n",
              "\n",
              "    .colab-df-convert {\n",
              "      background-color: #E8F0FE;\n",
              "      border: none;\n",
              "      border-radius: 50%;\n",
              "      cursor: pointer;\n",
              "      display: none;\n",
              "      fill: #1967D2;\n",
              "      height: 32px;\n",
              "      padding: 0 0 0 0;\n",
              "      width: 32px;\n",
              "    }\n",
              "\n",
              "    .colab-df-convert:hover {\n",
              "      background-color: #E2EBFA;\n",
              "      box-shadow: 0px 1px 2px rgba(60, 64, 67, 0.3), 0px 1px 3px 1px rgba(60, 64, 67, 0.15);\n",
              "      fill: #174EA6;\n",
              "    }\n",
              "\n",
              "    [theme=dark] .colab-df-convert {\n",
              "      background-color: #3B4455;\n",
              "      fill: #D2E3FC;\n",
              "    }\n",
              "\n",
              "    [theme=dark] .colab-df-convert:hover {\n",
              "      background-color: #434B5C;\n",
              "      box-shadow: 0px 1px 3px 1px rgba(0, 0, 0, 0.15);\n",
              "      filter: drop-shadow(0px 1px 2px rgba(0, 0, 0, 0.3));\n",
              "      fill: #FFFFFF;\n",
              "    }\n",
              "  </style>\n",
              "\n",
              "      <script>\n",
              "        const buttonEl =\n",
              "          document.querySelector('#df-502c817f-ebaf-4a5b-870a-33f244ce392c button.colab-df-convert');\n",
              "        buttonEl.style.display =\n",
              "          google.colab.kernel.accessAllowed ? 'block' : 'none';\n",
              "\n",
              "        async function convertToInteractive(key) {\n",
              "          const element = document.querySelector('#df-502c817f-ebaf-4a5b-870a-33f244ce392c');\n",
              "          const dataTable =\n",
              "            await google.colab.kernel.invokeFunction('convertToInteractive',\n",
              "                                                     [key], {});\n",
              "          if (!dataTable) return;\n",
              "\n",
              "          const docLinkHtml = 'Like what you see? Visit the ' +\n",
              "            '<a target=\"_blank\" href=https://colab.research.google.com/notebooks/data_table.ipynb>data table notebook</a>'\n",
              "            + ' to learn more about interactive tables.';\n",
              "          element.innerHTML = '';\n",
              "          dataTable['output_type'] = 'display_data';\n",
              "          await google.colab.output.renderOutput(dataTable, element);\n",
              "          const docLink = document.createElement('div');\n",
              "          docLink.innerHTML = docLinkHtml;\n",
              "          element.appendChild(docLink);\n",
              "        }\n",
              "      </script>\n",
              "    </div>\n",
              "  </div>\n",
              "  "
            ]
          },
          "metadata": {},
          "execution_count": 70
        }
      ]
    },
    {
      "cell_type": "code",
      "source": [
        "df.status_type.unique()"
      ],
      "metadata": {
        "colab": {
          "base_uri": "https://localhost:8080/"
        },
        "id": "5yT8G7oJ_eAL",
        "outputId": "7821ab31-7d7f-461f-fbac-bb857c8cf257"
      },
      "execution_count": 71,
      "outputs": [
        {
          "output_type": "execute_result",
          "data": {
            "text/plain": [
              "array(['video', 'photo', 'link', 'status'], dtype=object)"
            ]
          },
          "metadata": {},
          "execution_count": 71
        }
      ]
    },
    {
      "cell_type": "code",
      "source": [
        "np.unique(df[[\"Column1\", \"Column2\",\"Column3\", \"Column4\"]])"
      ],
      "metadata": {
        "colab": {
          "base_uri": "https://localhost:8080/"
        },
        "id": "qlPJ1TK4A1WN",
        "outputId": "3c4980c0-44a4-416c-b581-7c3828fd4ff9"
      },
      "execution_count": 72,
      "outputs": [
        {
          "output_type": "execute_result",
          "data": {
            "text/plain": [
              "array([nan])"
            ]
          },
          "metadata": {},
          "execution_count": 72
        }
      ]
    },
    {
      "cell_type": "code",
      "source": [
        "df = df.drop([\"Column1\", \"Column2\",\"Column3\", \"Column4\", \"status_id\"], axis=1)"
      ],
      "metadata": {
        "id": "W49dS7MaFlAk"
      },
      "execution_count": 73,
      "outputs": []
    },
    {
      "cell_type": "code",
      "source": [
        "df.dtypes"
      ],
      "metadata": {
        "colab": {
          "base_uri": "https://localhost:8080/"
        },
        "id": "fuOQS3YNByRu",
        "outputId": "c332dde5-2771-438c-a3c3-bdd3b13476f9"
      },
      "execution_count": 74,
      "outputs": [
        {
          "output_type": "execute_result",
          "data": {
            "text/plain": [
              "status_type         object\n",
              "status_published    object\n",
              "num_reactions        int64\n",
              "num_comments         int64\n",
              "num_shares           int64\n",
              "num_likes            int64\n",
              "num_loves            int64\n",
              "num_wows             int64\n",
              "num_hahas            int64\n",
              "num_sads             int64\n",
              "num_angrys           int64\n",
              "dtype: object"
            ]
          },
          "metadata": {},
          "execution_count": 74
        }
      ]
    },
    {
      "cell_type": "code",
      "source": [
        "df['status_published'] = pd.to_datetime(df['status_published'])"
      ],
      "metadata": {
        "id": "PL2QxYnZFUMB"
      },
      "execution_count": 75,
      "outputs": []
    },
    {
      "cell_type": "markdown",
      "source": [
        "Hemos transformado la columna \"status_published\" de objeto a datetime64. Aunque más adelanta observaremos que esta columna tampoco es necesaria 😅"
      ],
      "metadata": {
        "id": "pSZMk2gvGCVp"
      }
    },
    {
      "cell_type": "code",
      "source": [
        "df.isnull().values.any()"
      ],
      "metadata": {
        "colab": {
          "base_uri": "https://localhost:8080/"
        },
        "id": "3gaKFILVFeFg",
        "outputId": "e6286ec4-5dbf-4dbd-cb23-14b31ed37c84"
      },
      "execution_count": 76,
      "outputs": [
        {
          "output_type": "execute_result",
          "data": {
            "text/plain": [
              "False"
            ]
          },
          "metadata": {},
          "execution_count": 76
        }
      ]
    },
    {
      "cell_type": "code",
      "source": [
        "df.isna().values.any()"
      ],
      "metadata": {
        "colab": {
          "base_uri": "https://localhost:8080/"
        },
        "id": "csRfEK9_GVDR",
        "outputId": "50aed566-1062-482e-df63-ab8e4aad5575"
      },
      "execution_count": 77,
      "outputs": [
        {
          "output_type": "execute_result",
          "data": {
            "text/plain": [
              "False"
            ]
          },
          "metadata": {},
          "execution_count": 77
        }
      ]
    },
    {
      "cell_type": "markdown",
      "source": [
        "No tenemos nulos."
      ],
      "metadata": {
        "id": "KV6z0PX0A0lM"
      }
    },
    {
      "cell_type": "code",
      "source": [
        "df.describe().transpose()"
      ],
      "metadata": {
        "colab": {
          "base_uri": "https://localhost:8080/",
          "height": 395
        },
        "id": "UKNyahlcKXXL",
        "outputId": "7dda177d-d08e-41d1-ccfe-dffb7f9b71f2"
      },
      "execution_count": 78,
      "outputs": [
        {
          "output_type": "execute_result",
          "data": {
            "text/plain": [
              "                count        mean         std  min   25%   50%     75%  \\\n",
              "num_reactions  7050.0  230.117163  462.625309  0.0  17.0  59.5  219.00   \n",
              "num_comments   7050.0  224.356028  889.636820  0.0   0.0   4.0   23.00   \n",
              "num_shares     7050.0   40.022553  131.599965  0.0   0.0   0.0    4.00   \n",
              "num_likes      7050.0  215.043121  449.472357  0.0  17.0  58.0  184.75   \n",
              "num_loves      7050.0   12.728652   39.972930  0.0   0.0   0.0    3.00   \n",
              "num_wows       7050.0    1.289362    8.719650  0.0   0.0   0.0    0.00   \n",
              "num_hahas      7050.0    0.696454    3.957183  0.0   0.0   0.0    0.00   \n",
              "num_sads       7050.0    0.243688    1.597156  0.0   0.0   0.0    0.00   \n",
              "num_angrys     7050.0    0.113191    0.726812  0.0   0.0   0.0    0.00   \n",
              "\n",
              "                   max  \n",
              "num_reactions   4710.0  \n",
              "num_comments   20990.0  \n",
              "num_shares      3424.0  \n",
              "num_likes       4710.0  \n",
              "num_loves        657.0  \n",
              "num_wows         278.0  \n",
              "num_hahas        157.0  \n",
              "num_sads          51.0  \n",
              "num_angrys        31.0  "
            ],
            "text/html": [
              "\n",
              "  <div id=\"df-3ea1eb78-c68f-4226-9e00-91c7afbb189d\">\n",
              "    <div class=\"colab-df-container\">\n",
              "      <div>\n",
              "<style scoped>\n",
              "    .dataframe tbody tr th:only-of-type {\n",
              "        vertical-align: middle;\n",
              "    }\n",
              "\n",
              "    .dataframe tbody tr th {\n",
              "        vertical-align: top;\n",
              "    }\n",
              "\n",
              "    .dataframe thead th {\n",
              "        text-align: right;\n",
              "    }\n",
              "</style>\n",
              "<table border=\"1\" class=\"dataframe\">\n",
              "  <thead>\n",
              "    <tr style=\"text-align: right;\">\n",
              "      <th></th>\n",
              "      <th>count</th>\n",
              "      <th>mean</th>\n",
              "      <th>std</th>\n",
              "      <th>min</th>\n",
              "      <th>25%</th>\n",
              "      <th>50%</th>\n",
              "      <th>75%</th>\n",
              "      <th>max</th>\n",
              "    </tr>\n",
              "  </thead>\n",
              "  <tbody>\n",
              "    <tr>\n",
              "      <th>num_reactions</th>\n",
              "      <td>7050.0</td>\n",
              "      <td>230.117163</td>\n",
              "      <td>462.625309</td>\n",
              "      <td>0.0</td>\n",
              "      <td>17.0</td>\n",
              "      <td>59.5</td>\n",
              "      <td>219.00</td>\n",
              "      <td>4710.0</td>\n",
              "    </tr>\n",
              "    <tr>\n",
              "      <th>num_comments</th>\n",
              "      <td>7050.0</td>\n",
              "      <td>224.356028</td>\n",
              "      <td>889.636820</td>\n",
              "      <td>0.0</td>\n",
              "      <td>0.0</td>\n",
              "      <td>4.0</td>\n",
              "      <td>23.00</td>\n",
              "      <td>20990.0</td>\n",
              "    </tr>\n",
              "    <tr>\n",
              "      <th>num_shares</th>\n",
              "      <td>7050.0</td>\n",
              "      <td>40.022553</td>\n",
              "      <td>131.599965</td>\n",
              "      <td>0.0</td>\n",
              "      <td>0.0</td>\n",
              "      <td>0.0</td>\n",
              "      <td>4.00</td>\n",
              "      <td>3424.0</td>\n",
              "    </tr>\n",
              "    <tr>\n",
              "      <th>num_likes</th>\n",
              "      <td>7050.0</td>\n",
              "      <td>215.043121</td>\n",
              "      <td>449.472357</td>\n",
              "      <td>0.0</td>\n",
              "      <td>17.0</td>\n",
              "      <td>58.0</td>\n",
              "      <td>184.75</td>\n",
              "      <td>4710.0</td>\n",
              "    </tr>\n",
              "    <tr>\n",
              "      <th>num_loves</th>\n",
              "      <td>7050.0</td>\n",
              "      <td>12.728652</td>\n",
              "      <td>39.972930</td>\n",
              "      <td>0.0</td>\n",
              "      <td>0.0</td>\n",
              "      <td>0.0</td>\n",
              "      <td>3.00</td>\n",
              "      <td>657.0</td>\n",
              "    </tr>\n",
              "    <tr>\n",
              "      <th>num_wows</th>\n",
              "      <td>7050.0</td>\n",
              "      <td>1.289362</td>\n",
              "      <td>8.719650</td>\n",
              "      <td>0.0</td>\n",
              "      <td>0.0</td>\n",
              "      <td>0.0</td>\n",
              "      <td>0.00</td>\n",
              "      <td>278.0</td>\n",
              "    </tr>\n",
              "    <tr>\n",
              "      <th>num_hahas</th>\n",
              "      <td>7050.0</td>\n",
              "      <td>0.696454</td>\n",
              "      <td>3.957183</td>\n",
              "      <td>0.0</td>\n",
              "      <td>0.0</td>\n",
              "      <td>0.0</td>\n",
              "      <td>0.00</td>\n",
              "      <td>157.0</td>\n",
              "    </tr>\n",
              "    <tr>\n",
              "      <th>num_sads</th>\n",
              "      <td>7050.0</td>\n",
              "      <td>0.243688</td>\n",
              "      <td>1.597156</td>\n",
              "      <td>0.0</td>\n",
              "      <td>0.0</td>\n",
              "      <td>0.0</td>\n",
              "      <td>0.00</td>\n",
              "      <td>51.0</td>\n",
              "    </tr>\n",
              "    <tr>\n",
              "      <th>num_angrys</th>\n",
              "      <td>7050.0</td>\n",
              "      <td>0.113191</td>\n",
              "      <td>0.726812</td>\n",
              "      <td>0.0</td>\n",
              "      <td>0.0</td>\n",
              "      <td>0.0</td>\n",
              "      <td>0.00</td>\n",
              "      <td>31.0</td>\n",
              "    </tr>\n",
              "  </tbody>\n",
              "</table>\n",
              "</div>\n",
              "      <button class=\"colab-df-convert\" onclick=\"convertToInteractive('df-3ea1eb78-c68f-4226-9e00-91c7afbb189d')\"\n",
              "              title=\"Convert this dataframe to an interactive table.\"\n",
              "              style=\"display:none;\">\n",
              "        \n",
              "  <svg xmlns=\"http://www.w3.org/2000/svg\" height=\"24px\"viewBox=\"0 0 24 24\"\n",
              "       width=\"24px\">\n",
              "    <path d=\"M0 0h24v24H0V0z\" fill=\"none\"/>\n",
              "    <path d=\"M18.56 5.44l.94 2.06.94-2.06 2.06-.94-2.06-.94-.94-2.06-.94 2.06-2.06.94zm-11 1L8.5 8.5l.94-2.06 2.06-.94-2.06-.94L8.5 2.5l-.94 2.06-2.06.94zm10 10l.94 2.06.94-2.06 2.06-.94-2.06-.94-.94-2.06-.94 2.06-2.06.94z\"/><path d=\"M17.41 7.96l-1.37-1.37c-.4-.4-.92-.59-1.43-.59-.52 0-1.04.2-1.43.59L10.3 9.45l-7.72 7.72c-.78.78-.78 2.05 0 2.83L4 21.41c.39.39.9.59 1.41.59.51 0 1.02-.2 1.41-.59l7.78-7.78 2.81-2.81c.8-.78.8-2.07 0-2.86zM5.41 20L4 18.59l7.72-7.72 1.47 1.35L5.41 20z\"/>\n",
              "  </svg>\n",
              "      </button>\n",
              "      \n",
              "  <style>\n",
              "    .colab-df-container {\n",
              "      display:flex;\n",
              "      flex-wrap:wrap;\n",
              "      gap: 12px;\n",
              "    }\n",
              "\n",
              "    .colab-df-convert {\n",
              "      background-color: #E8F0FE;\n",
              "      border: none;\n",
              "      border-radius: 50%;\n",
              "      cursor: pointer;\n",
              "      display: none;\n",
              "      fill: #1967D2;\n",
              "      height: 32px;\n",
              "      padding: 0 0 0 0;\n",
              "      width: 32px;\n",
              "    }\n",
              "\n",
              "    .colab-df-convert:hover {\n",
              "      background-color: #E2EBFA;\n",
              "      box-shadow: 0px 1px 2px rgba(60, 64, 67, 0.3), 0px 1px 3px 1px rgba(60, 64, 67, 0.15);\n",
              "      fill: #174EA6;\n",
              "    }\n",
              "\n",
              "    [theme=dark] .colab-df-convert {\n",
              "      background-color: #3B4455;\n",
              "      fill: #D2E3FC;\n",
              "    }\n",
              "\n",
              "    [theme=dark] .colab-df-convert:hover {\n",
              "      background-color: #434B5C;\n",
              "      box-shadow: 0px 1px 3px 1px rgba(0, 0, 0, 0.15);\n",
              "      filter: drop-shadow(0px 1px 2px rgba(0, 0, 0, 0.3));\n",
              "      fill: #FFFFFF;\n",
              "    }\n",
              "  </style>\n",
              "\n",
              "      <script>\n",
              "        const buttonEl =\n",
              "          document.querySelector('#df-3ea1eb78-c68f-4226-9e00-91c7afbb189d button.colab-df-convert');\n",
              "        buttonEl.style.display =\n",
              "          google.colab.kernel.accessAllowed ? 'block' : 'none';\n",
              "\n",
              "        async function convertToInteractive(key) {\n",
              "          const element = document.querySelector('#df-3ea1eb78-c68f-4226-9e00-91c7afbb189d');\n",
              "          const dataTable =\n",
              "            await google.colab.kernel.invokeFunction('convertToInteractive',\n",
              "                                                     [key], {});\n",
              "          if (!dataTable) return;\n",
              "\n",
              "          const docLinkHtml = 'Like what you see? Visit the ' +\n",
              "            '<a target=\"_blank\" href=https://colab.research.google.com/notebooks/data_table.ipynb>data table notebook</a>'\n",
              "            + ' to learn more about interactive tables.';\n",
              "          element.innerHTML = '';\n",
              "          dataTable['output_type'] = 'display_data';\n",
              "          await google.colab.output.renderOutput(dataTable, element);\n",
              "          const docLink = document.createElement('div');\n",
              "          docLink.innerHTML = docLinkHtml;\n",
              "          element.appendChild(docLink);\n",
              "        }\n",
              "      </script>\n",
              "    </div>\n",
              "  </div>\n",
              "  "
            ]
          },
          "metadata": {},
          "execution_count": 78
        }
      ]
    },
    {
      "cell_type": "code",
      "source": [
        "df.tail(10)"
      ],
      "metadata": {
        "colab": {
          "base_uri": "https://localhost:8080/",
          "height": 601
        },
        "id": "8Up1uSYLG46o",
        "outputId": "1885ead3-ee47-448f-f8b0-d69aba2782a0"
      },
      "execution_count": 79,
      "outputs": [
        {
          "output_type": "execute_result",
          "data": {
            "text/plain": [
              "     status_type    status_published  num_reactions  num_comments  num_shares  \\\n",
              "7040       photo 2016-09-25 13:29:00             93            26          34   \n",
              "7041       photo 2016-09-24 08:15:00              9             0           0   \n",
              "7042       photo 2016-09-24 06:07:00              4             0           0   \n",
              "7043       photo 2016-09-24 05:07:00            196             2           3   \n",
              "7044       photo 2016-09-24 04:37:00             86             0           0   \n",
              "7045       photo 2016-09-24 02:58:00             89             0           0   \n",
              "7046       photo 2016-09-23 11:19:00             16             0           0   \n",
              "7047       photo 2016-09-21 23:03:00              2             0           0   \n",
              "7048       photo 2016-09-20 00:43:00            351            12          22   \n",
              "7049       photo 2016-09-10 10:30:00             17             0           0   \n",
              "\n",
              "      num_likes  num_loves  num_wows  num_hahas  num_sads  num_angrys  \n",
              "7040         90          3         0          0         0           0  \n",
              "7041          7          2         0          0         0           0  \n",
              "7042          4          0         0          0         0           0  \n",
              "7043        195          1         0          0         0           0  \n",
              "7044         86          0         0          0         0           0  \n",
              "7045         89          0         0          0         0           0  \n",
              "7046         14          1         0          1         0           0  \n",
              "7047          1          1         0          0         0           0  \n",
              "7048        349          2         0          0         0           0  \n",
              "7049         17          0         0          0         0           0  "
            ],
            "text/html": [
              "\n",
              "  <div id=\"df-827d9b6d-7d58-4e03-a917-e3e865a99b05\">\n",
              "    <div class=\"colab-df-container\">\n",
              "      <div>\n",
              "<style scoped>\n",
              "    .dataframe tbody tr th:only-of-type {\n",
              "        vertical-align: middle;\n",
              "    }\n",
              "\n",
              "    .dataframe tbody tr th {\n",
              "        vertical-align: top;\n",
              "    }\n",
              "\n",
              "    .dataframe thead th {\n",
              "        text-align: right;\n",
              "    }\n",
              "</style>\n",
              "<table border=\"1\" class=\"dataframe\">\n",
              "  <thead>\n",
              "    <tr style=\"text-align: right;\">\n",
              "      <th></th>\n",
              "      <th>status_type</th>\n",
              "      <th>status_published</th>\n",
              "      <th>num_reactions</th>\n",
              "      <th>num_comments</th>\n",
              "      <th>num_shares</th>\n",
              "      <th>num_likes</th>\n",
              "      <th>num_loves</th>\n",
              "      <th>num_wows</th>\n",
              "      <th>num_hahas</th>\n",
              "      <th>num_sads</th>\n",
              "      <th>num_angrys</th>\n",
              "    </tr>\n",
              "  </thead>\n",
              "  <tbody>\n",
              "    <tr>\n",
              "      <th>7040</th>\n",
              "      <td>photo</td>\n",
              "      <td>2016-09-25 13:29:00</td>\n",
              "      <td>93</td>\n",
              "      <td>26</td>\n",
              "      <td>34</td>\n",
              "      <td>90</td>\n",
              "      <td>3</td>\n",
              "      <td>0</td>\n",
              "      <td>0</td>\n",
              "      <td>0</td>\n",
              "      <td>0</td>\n",
              "    </tr>\n",
              "    <tr>\n",
              "      <th>7041</th>\n",
              "      <td>photo</td>\n",
              "      <td>2016-09-24 08:15:00</td>\n",
              "      <td>9</td>\n",
              "      <td>0</td>\n",
              "      <td>0</td>\n",
              "      <td>7</td>\n",
              "      <td>2</td>\n",
              "      <td>0</td>\n",
              "      <td>0</td>\n",
              "      <td>0</td>\n",
              "      <td>0</td>\n",
              "    </tr>\n",
              "    <tr>\n",
              "      <th>7042</th>\n",
              "      <td>photo</td>\n",
              "      <td>2016-09-24 06:07:00</td>\n",
              "      <td>4</td>\n",
              "      <td>0</td>\n",
              "      <td>0</td>\n",
              "      <td>4</td>\n",
              "      <td>0</td>\n",
              "      <td>0</td>\n",
              "      <td>0</td>\n",
              "      <td>0</td>\n",
              "      <td>0</td>\n",
              "    </tr>\n",
              "    <tr>\n",
              "      <th>7043</th>\n",
              "      <td>photo</td>\n",
              "      <td>2016-09-24 05:07:00</td>\n",
              "      <td>196</td>\n",
              "      <td>2</td>\n",
              "      <td>3</td>\n",
              "      <td>195</td>\n",
              "      <td>1</td>\n",
              "      <td>0</td>\n",
              "      <td>0</td>\n",
              "      <td>0</td>\n",
              "      <td>0</td>\n",
              "    </tr>\n",
              "    <tr>\n",
              "      <th>7044</th>\n",
              "      <td>photo</td>\n",
              "      <td>2016-09-24 04:37:00</td>\n",
              "      <td>86</td>\n",
              "      <td>0</td>\n",
              "      <td>0</td>\n",
              "      <td>86</td>\n",
              "      <td>0</td>\n",
              "      <td>0</td>\n",
              "      <td>0</td>\n",
              "      <td>0</td>\n",
              "      <td>0</td>\n",
              "    </tr>\n",
              "    <tr>\n",
              "      <th>7045</th>\n",
              "      <td>photo</td>\n",
              "      <td>2016-09-24 02:58:00</td>\n",
              "      <td>89</td>\n",
              "      <td>0</td>\n",
              "      <td>0</td>\n",
              "      <td>89</td>\n",
              "      <td>0</td>\n",
              "      <td>0</td>\n",
              "      <td>0</td>\n",
              "      <td>0</td>\n",
              "      <td>0</td>\n",
              "    </tr>\n",
              "    <tr>\n",
              "      <th>7046</th>\n",
              "      <td>photo</td>\n",
              "      <td>2016-09-23 11:19:00</td>\n",
              "      <td>16</td>\n",
              "      <td>0</td>\n",
              "      <td>0</td>\n",
              "      <td>14</td>\n",
              "      <td>1</td>\n",
              "      <td>0</td>\n",
              "      <td>1</td>\n",
              "      <td>0</td>\n",
              "      <td>0</td>\n",
              "    </tr>\n",
              "    <tr>\n",
              "      <th>7047</th>\n",
              "      <td>photo</td>\n",
              "      <td>2016-09-21 23:03:00</td>\n",
              "      <td>2</td>\n",
              "      <td>0</td>\n",
              "      <td>0</td>\n",
              "      <td>1</td>\n",
              "      <td>1</td>\n",
              "      <td>0</td>\n",
              "      <td>0</td>\n",
              "      <td>0</td>\n",
              "      <td>0</td>\n",
              "    </tr>\n",
              "    <tr>\n",
              "      <th>7048</th>\n",
              "      <td>photo</td>\n",
              "      <td>2016-09-20 00:43:00</td>\n",
              "      <td>351</td>\n",
              "      <td>12</td>\n",
              "      <td>22</td>\n",
              "      <td>349</td>\n",
              "      <td>2</td>\n",
              "      <td>0</td>\n",
              "      <td>0</td>\n",
              "      <td>0</td>\n",
              "      <td>0</td>\n",
              "    </tr>\n",
              "    <tr>\n",
              "      <th>7049</th>\n",
              "      <td>photo</td>\n",
              "      <td>2016-09-10 10:30:00</td>\n",
              "      <td>17</td>\n",
              "      <td>0</td>\n",
              "      <td>0</td>\n",
              "      <td>17</td>\n",
              "      <td>0</td>\n",
              "      <td>0</td>\n",
              "      <td>0</td>\n",
              "      <td>0</td>\n",
              "      <td>0</td>\n",
              "    </tr>\n",
              "  </tbody>\n",
              "</table>\n",
              "</div>\n",
              "      <button class=\"colab-df-convert\" onclick=\"convertToInteractive('df-827d9b6d-7d58-4e03-a917-e3e865a99b05')\"\n",
              "              title=\"Convert this dataframe to an interactive table.\"\n",
              "              style=\"display:none;\">\n",
              "        \n",
              "  <svg xmlns=\"http://www.w3.org/2000/svg\" height=\"24px\"viewBox=\"0 0 24 24\"\n",
              "       width=\"24px\">\n",
              "    <path d=\"M0 0h24v24H0V0z\" fill=\"none\"/>\n",
              "    <path d=\"M18.56 5.44l.94 2.06.94-2.06 2.06-.94-2.06-.94-.94-2.06-.94 2.06-2.06.94zm-11 1L8.5 8.5l.94-2.06 2.06-.94-2.06-.94L8.5 2.5l-.94 2.06-2.06.94zm10 10l.94 2.06.94-2.06 2.06-.94-2.06-.94-.94-2.06-.94 2.06-2.06.94z\"/><path d=\"M17.41 7.96l-1.37-1.37c-.4-.4-.92-.59-1.43-.59-.52 0-1.04.2-1.43.59L10.3 9.45l-7.72 7.72c-.78.78-.78 2.05 0 2.83L4 21.41c.39.39.9.59 1.41.59.51 0 1.02-.2 1.41-.59l7.78-7.78 2.81-2.81c.8-.78.8-2.07 0-2.86zM5.41 20L4 18.59l7.72-7.72 1.47 1.35L5.41 20z\"/>\n",
              "  </svg>\n",
              "      </button>\n",
              "      \n",
              "  <style>\n",
              "    .colab-df-container {\n",
              "      display:flex;\n",
              "      flex-wrap:wrap;\n",
              "      gap: 12px;\n",
              "    }\n",
              "\n",
              "    .colab-df-convert {\n",
              "      background-color: #E8F0FE;\n",
              "      border: none;\n",
              "      border-radius: 50%;\n",
              "      cursor: pointer;\n",
              "      display: none;\n",
              "      fill: #1967D2;\n",
              "      height: 32px;\n",
              "      padding: 0 0 0 0;\n",
              "      width: 32px;\n",
              "    }\n",
              "\n",
              "    .colab-df-convert:hover {\n",
              "      background-color: #E2EBFA;\n",
              "      box-shadow: 0px 1px 2px rgba(60, 64, 67, 0.3), 0px 1px 3px 1px rgba(60, 64, 67, 0.15);\n",
              "      fill: #174EA6;\n",
              "    }\n",
              "\n",
              "    [theme=dark] .colab-df-convert {\n",
              "      background-color: #3B4455;\n",
              "      fill: #D2E3FC;\n",
              "    }\n",
              "\n",
              "    [theme=dark] .colab-df-convert:hover {\n",
              "      background-color: #434B5C;\n",
              "      box-shadow: 0px 1px 3px 1px rgba(0, 0, 0, 0.15);\n",
              "      filter: drop-shadow(0px 1px 2px rgba(0, 0, 0, 0.3));\n",
              "      fill: #FFFFFF;\n",
              "    }\n",
              "  </style>\n",
              "\n",
              "      <script>\n",
              "        const buttonEl =\n",
              "          document.querySelector('#df-827d9b6d-7d58-4e03-a917-e3e865a99b05 button.colab-df-convert');\n",
              "        buttonEl.style.display =\n",
              "          google.colab.kernel.accessAllowed ? 'block' : 'none';\n",
              "\n",
              "        async function convertToInteractive(key) {\n",
              "          const element = document.querySelector('#df-827d9b6d-7d58-4e03-a917-e3e865a99b05');\n",
              "          const dataTable =\n",
              "            await google.colab.kernel.invokeFunction('convertToInteractive',\n",
              "                                                     [key], {});\n",
              "          if (!dataTable) return;\n",
              "\n",
              "          const docLinkHtml = 'Like what you see? Visit the ' +\n",
              "            '<a target=\"_blank\" href=https://colab.research.google.com/notebooks/data_table.ipynb>data table notebook</a>'\n",
              "            + ' to learn more about interactive tables.';\n",
              "          element.innerHTML = '';\n",
              "          dataTable['output_type'] = 'display_data';\n",
              "          await google.colab.output.renderOutput(dataTable, element);\n",
              "          const docLink = document.createElement('div');\n",
              "          docLink.innerHTML = docLinkHtml;\n",
              "          element.appendChild(docLink);\n",
              "        }\n",
              "      </script>\n",
              "    </div>\n",
              "  </div>\n",
              "  "
            ]
          },
          "metadata": {},
          "execution_count": 79
        }
      ]
    },
    {
      "cell_type": "markdown",
      "source": [
        "#### Preprocesado"
      ],
      "metadata": {
        "id": "MWtFA90lQjhv"
      }
    },
    {
      "cell_type": "markdown",
      "source": [
        "Haremos los siguientes pasos:\n",
        "\n",
        "* Separaremos el DataFrame en X e y\n",
        "* Convertiremos las variables categoricas en variables tipo númerico\n",
        "* Escalaremos las columnas que lo requieran\n",
        "* Eliminaremos la columna status_published que hace referencia a la hora y fecha de publicación no nos será de utilidad"
      ],
      "metadata": {
        "id": "olSLUj85S0sw"
      }
    },
    {
      "cell_type": "code",
      "source": [
        "#Declarationg of feature vector and target variable\n",
        "X = df.drop(['status_published'], axis=1) #La columna que hace referencia a la hora y fecha de publicación no nos será de utilidad\n",
        "y = df['status_type']\n",
        "\n",
        "#Convert categorical variable into integers\n",
        "le = LabelEncoder() \n",
        "X['status_type'] = le.fit_transform(X['status_type'])\n",
        "y = le.transform(y)\n",
        "\n",
        "X.head()"
      ],
      "metadata": {
        "colab": {
          "base_uri": "https://localhost:8080/",
          "height": 270
        },
        "id": "HBdFvMdbLCyV",
        "outputId": "c7f9901d-f9fd-43f9-c97b-9428c42187f6"
      },
      "execution_count": 80,
      "outputs": [
        {
          "output_type": "execute_result",
          "data": {
            "text/plain": [
              "   status_type  num_reactions  num_comments  num_shares  num_likes  num_loves  \\\n",
              "0            3            529           512         262        432         92   \n",
              "1            1            150             0           0        150          0   \n",
              "2            3            227           236          57        204         21   \n",
              "3            1            111             0           0        111          0   \n",
              "4            1            213             0           0        204          9   \n",
              "\n",
              "   num_wows  num_hahas  num_sads  num_angrys  \n",
              "0         3          1         1           0  \n",
              "1         0          0         0           0  \n",
              "2         1          1         0           0  \n",
              "3         0          0         0           0  \n",
              "4         0          0         0           0  "
            ],
            "text/html": [
              "\n",
              "  <div id=\"df-a453ae5c-9f8d-4baf-ad7b-eb5454ae435e\">\n",
              "    <div class=\"colab-df-container\">\n",
              "      <div>\n",
              "<style scoped>\n",
              "    .dataframe tbody tr th:only-of-type {\n",
              "        vertical-align: middle;\n",
              "    }\n",
              "\n",
              "    .dataframe tbody tr th {\n",
              "        vertical-align: top;\n",
              "    }\n",
              "\n",
              "    .dataframe thead th {\n",
              "        text-align: right;\n",
              "    }\n",
              "</style>\n",
              "<table border=\"1\" class=\"dataframe\">\n",
              "  <thead>\n",
              "    <tr style=\"text-align: right;\">\n",
              "      <th></th>\n",
              "      <th>status_type</th>\n",
              "      <th>num_reactions</th>\n",
              "      <th>num_comments</th>\n",
              "      <th>num_shares</th>\n",
              "      <th>num_likes</th>\n",
              "      <th>num_loves</th>\n",
              "      <th>num_wows</th>\n",
              "      <th>num_hahas</th>\n",
              "      <th>num_sads</th>\n",
              "      <th>num_angrys</th>\n",
              "    </tr>\n",
              "  </thead>\n",
              "  <tbody>\n",
              "    <tr>\n",
              "      <th>0</th>\n",
              "      <td>3</td>\n",
              "      <td>529</td>\n",
              "      <td>512</td>\n",
              "      <td>262</td>\n",
              "      <td>432</td>\n",
              "      <td>92</td>\n",
              "      <td>3</td>\n",
              "      <td>1</td>\n",
              "      <td>1</td>\n",
              "      <td>0</td>\n",
              "    </tr>\n",
              "    <tr>\n",
              "      <th>1</th>\n",
              "      <td>1</td>\n",
              "      <td>150</td>\n",
              "      <td>0</td>\n",
              "      <td>0</td>\n",
              "      <td>150</td>\n",
              "      <td>0</td>\n",
              "      <td>0</td>\n",
              "      <td>0</td>\n",
              "      <td>0</td>\n",
              "      <td>0</td>\n",
              "    </tr>\n",
              "    <tr>\n",
              "      <th>2</th>\n",
              "      <td>3</td>\n",
              "      <td>227</td>\n",
              "      <td>236</td>\n",
              "      <td>57</td>\n",
              "      <td>204</td>\n",
              "      <td>21</td>\n",
              "      <td>1</td>\n",
              "      <td>1</td>\n",
              "      <td>0</td>\n",
              "      <td>0</td>\n",
              "    </tr>\n",
              "    <tr>\n",
              "      <th>3</th>\n",
              "      <td>1</td>\n",
              "      <td>111</td>\n",
              "      <td>0</td>\n",
              "      <td>0</td>\n",
              "      <td>111</td>\n",
              "      <td>0</td>\n",
              "      <td>0</td>\n",
              "      <td>0</td>\n",
              "      <td>0</td>\n",
              "      <td>0</td>\n",
              "    </tr>\n",
              "    <tr>\n",
              "      <th>4</th>\n",
              "      <td>1</td>\n",
              "      <td>213</td>\n",
              "      <td>0</td>\n",
              "      <td>0</td>\n",
              "      <td>204</td>\n",
              "      <td>9</td>\n",
              "      <td>0</td>\n",
              "      <td>0</td>\n",
              "      <td>0</td>\n",
              "      <td>0</td>\n",
              "    </tr>\n",
              "  </tbody>\n",
              "</table>\n",
              "</div>\n",
              "      <button class=\"colab-df-convert\" onclick=\"convertToInteractive('df-a453ae5c-9f8d-4baf-ad7b-eb5454ae435e')\"\n",
              "              title=\"Convert this dataframe to an interactive table.\"\n",
              "              style=\"display:none;\">\n",
              "        \n",
              "  <svg xmlns=\"http://www.w3.org/2000/svg\" height=\"24px\"viewBox=\"0 0 24 24\"\n",
              "       width=\"24px\">\n",
              "    <path d=\"M0 0h24v24H0V0z\" fill=\"none\"/>\n",
              "    <path d=\"M18.56 5.44l.94 2.06.94-2.06 2.06-.94-2.06-.94-.94-2.06-.94 2.06-2.06.94zm-11 1L8.5 8.5l.94-2.06 2.06-.94-2.06-.94L8.5 2.5l-.94 2.06-2.06.94zm10 10l.94 2.06.94-2.06 2.06-.94-2.06-.94-.94-2.06-.94 2.06-2.06.94z\"/><path d=\"M17.41 7.96l-1.37-1.37c-.4-.4-.92-.59-1.43-.59-.52 0-1.04.2-1.43.59L10.3 9.45l-7.72 7.72c-.78.78-.78 2.05 0 2.83L4 21.41c.39.39.9.59 1.41.59.51 0 1.02-.2 1.41-.59l7.78-7.78 2.81-2.81c.8-.78.8-2.07 0-2.86zM5.41 20L4 18.59l7.72-7.72 1.47 1.35L5.41 20z\"/>\n",
              "  </svg>\n",
              "      </button>\n",
              "      \n",
              "  <style>\n",
              "    .colab-df-container {\n",
              "      display:flex;\n",
              "      flex-wrap:wrap;\n",
              "      gap: 12px;\n",
              "    }\n",
              "\n",
              "    .colab-df-convert {\n",
              "      background-color: #E8F0FE;\n",
              "      border: none;\n",
              "      border-radius: 50%;\n",
              "      cursor: pointer;\n",
              "      display: none;\n",
              "      fill: #1967D2;\n",
              "      height: 32px;\n",
              "      padding: 0 0 0 0;\n",
              "      width: 32px;\n",
              "    }\n",
              "\n",
              "    .colab-df-convert:hover {\n",
              "      background-color: #E2EBFA;\n",
              "      box-shadow: 0px 1px 2px rgba(60, 64, 67, 0.3), 0px 1px 3px 1px rgba(60, 64, 67, 0.15);\n",
              "      fill: #174EA6;\n",
              "    }\n",
              "\n",
              "    [theme=dark] .colab-df-convert {\n",
              "      background-color: #3B4455;\n",
              "      fill: #D2E3FC;\n",
              "    }\n",
              "\n",
              "    [theme=dark] .colab-df-convert:hover {\n",
              "      background-color: #434B5C;\n",
              "      box-shadow: 0px 1px 3px 1px rgba(0, 0, 0, 0.15);\n",
              "      filter: drop-shadow(0px 1px 2px rgba(0, 0, 0, 0.3));\n",
              "      fill: #FFFFFF;\n",
              "    }\n",
              "  </style>\n",
              "\n",
              "      <script>\n",
              "        const buttonEl =\n",
              "          document.querySelector('#df-a453ae5c-9f8d-4baf-ad7b-eb5454ae435e button.colab-df-convert');\n",
              "        buttonEl.style.display =\n",
              "          google.colab.kernel.accessAllowed ? 'block' : 'none';\n",
              "\n",
              "        async function convertToInteractive(key) {\n",
              "          const element = document.querySelector('#df-a453ae5c-9f8d-4baf-ad7b-eb5454ae435e');\n",
              "          const dataTable =\n",
              "            await google.colab.kernel.invokeFunction('convertToInteractive',\n",
              "                                                     [key], {});\n",
              "          if (!dataTable) return;\n",
              "\n",
              "          const docLinkHtml = 'Like what you see? Visit the ' +\n",
              "            '<a target=\"_blank\" href=https://colab.research.google.com/notebooks/data_table.ipynb>data table notebook</a>'\n",
              "            + ' to learn more about interactive tables.';\n",
              "          element.innerHTML = '';\n",
              "          dataTable['output_type'] = 'display_data';\n",
              "          await google.colab.output.renderOutput(dataTable, element);\n",
              "          const docLink = document.createElement('div');\n",
              "          docLink.innerHTML = docLinkHtml;\n",
              "          element.appendChild(docLink);\n",
              "        }\n",
              "      </script>\n",
              "    </div>\n",
              "  </div>\n",
              "  "
            ]
          },
          "metadata": {},
          "execution_count": 80
        }
      ]
    },
    {
      "cell_type": "code",
      "source": [
        "fig, axs = plt.subplots(ncols=5, nrows=2, figsize=(20, 10))\n",
        "index = 0\n",
        "axs = axs.flatten()\n",
        "for k,v in X.items():\n",
        "    sns.boxplot(y=k, data=X, ax=axs[index])\n",
        "    index += 1\n",
        "plt.tight_layout(pad=0.4, w_pad=0.5, h_pad=5.0)"
      ],
      "metadata": {
        "colab": {
          "base_uri": "https://localhost:8080/",
          "height": 54
        },
        "id": "HOCN86v5Qx0Q",
        "outputId": "545140e8-7fde-4c73-dcbe-9a66f5c1f53c"
      },
      "execution_count": 81,
      "outputs": [
        {
          "output_type": "display_data",
          "data": {
            "text/plain": [
              "<Figure size 1440x720 with 10 Axes>"
            ],
            "image/png": "[encoded data removed]"
          },
          "metadata": {
            "needs_background": "light"
          }
        }
      ]
    },
    {
      "cell_type": "markdown",
      "source": [
        "Encontramos Outlayers, en todas las columnas excepto en status_type. Utilizaremos RobustScaler en todas excepto status_type donde aplicaremos MinMax. "
      ],
      "metadata": {
        "id": "81Xhl7LqRM6w"
      }
    },
    {
      "cell_type": "code",
      "source": [
        "columnsMinMax = ['status_type']\n",
        "scalerMM = MinMaxScaler().fit(X[columnsMinMax])\n",
        "X[columnsMinMax] = scalerMM.transform(X[columnsMinMax])\n",
        "\n",
        "\n",
        "columnsRobust =  ['num_reactions', 'num_comments',\n",
        "       'num_shares', 'num_likes', 'num_loves', 'num_wows', 'num_hahas',\n",
        "       'num_sads', 'num_angrys']\n",
        "scalerRobust = RobustScaler().fit(X[columnsRobust])\n",
        "X[columnsRobust] = scalerRobust.transform(X[columnsRobust])"
      ],
      "metadata": {
        "id": "oG0HmdDFRi43"
      },
      "execution_count": 82,
      "outputs": []
    },
    {
      "cell_type": "markdown",
      "source": [
        "#### PCA - Principal Component Analysis"
      ],
      "metadata": {
        "id": "lCGJNNhW6jeS"
      }
    },
    {
      "cell_type": "markdown",
      "source": [
        "Antes de trabajar con K-Means aplicaremos PCA para reducir el número de columnas a trabajar."
      ],
      "metadata": {
        "id": "dFzvoydT_TCI"
      }
    },
    {
      "cell_type": "code",
      "source": [
        "pca = PCA().fit(X)\n",
        "plt.plot(np.cumsum(pca.explained_variance_ratio_))\n",
        "plt.xlim(0,7,1)\n",
        "plt.xlabel('Number of components')\n",
        "plt.ylabel('Cumulative explained variance')"
      ],
      "metadata": {
        "colab": {
          "base_uri": "https://localhost:8080/",
          "height": 141
        },
        "id": "mcRWsUQV6jJL",
        "outputId": "b0479104-3d7e-419b-931f-fa4e01e44003"
      },
      "execution_count": 83,
      "outputs": [
        {
          "output_type": "execute_result",
          "data": {
            "text/plain": [
              "Text(0, 0.5, 'Cumulative explained variance')"
            ]
          },
          "metadata": {},
          "execution_count": 83
        },
        {
          "output_type": "display_data",
          "data": {
            "text/plain": [
              "<Figure size 432x288 with 1 Axes>"
            ],
            "image/png": "[encoded data removed]"
          },
          "metadata": {
            "needs_background": "light"
          }
        }
      ]
    },
    {
      "cell_type": "markdown",
      "source": [
        "Realizaremos un PCA y nos quedaremos con 2 componentes, de esta forma además podremos graficarlo de forma sencilla en dos dimensiones."
      ],
      "metadata": {
        "id": "ZRlXY4HR_he5"
      }
    },
    {
      "cell_type": "code",
      "source": [
        "pca = PCA(n_components=2)\n",
        "\n",
        "Xpca = pca.fit_transform(X)\n",
        "Xpca"
      ],
      "metadata": {
        "colab": {
          "base_uri": "https://localhost:8080/"
        },
        "id": "-WqN0syDCAGG",
        "outputId": "151cc707-7150-42ed-c50f-f271e54e9757"
      },
      "execution_count": 84,
      "outputs": [
        {
          "output_type": "execute_result",
          "data": {
            "text/plain": [
              "array([[ 49.09947491,  37.98545119],\n",
              "       [-14.52757434,  -2.02158442],\n",
              "       [  3.54686923,   3.33820033],\n",
              "       ...,\n",
              "       [-14.4736705 ,  -1.95482035],\n",
              "       [-10.60721733,   1.67759665],\n",
              "       [-14.54155177,  -2.04319448]])"
            ]
          },
          "metadata": {},
          "execution_count": 84
        }
      ]
    },
    {
      "cell_type": "code",
      "source": [
        "fig, ax = plt.subplots()\n",
        "ax.scatter(x=Xpca[:,0], y=Xpca[:,1])"
      ],
      "metadata": {
        "colab": {
          "base_uri": "https://localhost:8080/",
          "height": 106
        },
        "id": "FLGDQuLmFPDL",
        "outputId": "09f6433c-a8fb-4cc4-e7fc-d1ac04cd1ec3"
      },
      "execution_count": 85,
      "outputs": [
        {
          "output_type": "execute_result",
          "data": {
            "text/plain": [
              "<matplotlib.collections.PathCollection at 0x7f7ac2dd9b50>"
            ]
          },
          "metadata": {},
          "execution_count": 85
        },
        {
          "output_type": "display_data",
          "data": {
            "text/plain": [
              "<Figure size 432x288 with 1 Axes>"
            ],
            "image/png": "[encoded data removed]"
          },
          "metadata": {
            "needs_background": "light"
          }
        }
      ]
    },
    {
      "cell_type": "markdown",
      "source": [
        "En la siguiente tabla veremos la relación entre las columnas originales y las nuevas columnas creadas tras el PCA.\n",
        "\n",
        "En un peso concreto en el número de comentarios y en el número de veces compartido."
      ],
      "metadata": {
        "id": "57sWd8yjEogi"
      }
    },
    {
      "cell_type": "code",
      "source": [
        "col = list(X.columns)\n",
        "attributes_pca = pd.DataFrame({'Attribute' : col, 'PC_1': pca.components_[0], 'PC_2': pca.components_[1]})\n",
        "attributes_pca.style.highlight_max(['PC_1', 'PC_2'])"
      ],
      "metadata": {
        "colab": {
          "base_uri": "https://localhost:8080/",
          "height": 383
        },
        "id": "bafXjeIxEpjn",
        "outputId": "65475a0a-b972-4a3f-beeb-22807a4d1ae2"
      },
      "execution_count": 86,
      "outputs": [
        {
          "output_type": "execute_result",
          "data": {
            "text/plain": [
              "<pandas.io.formats.style.Styler at 0x7f7ac2cc0290>"
            ],
            "text/html": [
              "<style type=\"text/css\">\n",
              "#T_ce01a_row2_col1, #T_ce01a_row3_col2 {\n",
              "  background-color: yellow;\n",
              "}\n",
              "</style>\n",
              "<table id=\"T_ce01a_\" class=\"dataframe\">\n",
              "  <thead>\n",
              "    <tr>\n",
              "      <th class=\"blank level0\" >&nbsp;</th>\n",
              "      <th class=\"col_heading level0 col0\" >Attribute</th>\n",
              "      <th class=\"col_heading level0 col1\" >PC_1</th>\n",
              "      <th class=\"col_heading level0 col2\" >PC_2</th>\n",
              "    </tr>\n",
              "  </thead>\n",
              "  <tbody>\n",
              "    <tr>\n",
              "      <th id=\"T_ce01a_level0_row0\" class=\"row_heading level0 row0\" >0</th>\n",
              "      <td id=\"T_ce01a_row0_col0\" class=\"data row0 col0\" >status_type</td>\n",
              "      <td id=\"T_ce01a_row0_col1\" class=\"data row0 col1\" >0.002597</td>\n",
              "      <td id=\"T_ce01a_row0_col2\" class=\"data row0 col2\" >0.001572</td>\n",
              "    </tr>\n",
              "    <tr>\n",
              "      <th id=\"T_ce01a_level0_row1\" class=\"row_heading level0 row1\" >1</th>\n",
              "      <td id=\"T_ce01a_row1_col0\" class=\"data row1 col0\" >num_reactions</td>\n",
              "      <td id=\"T_ce01a_row1_col1\" class=\"data row1 col1\" >0.010807</td>\n",
              "      <td id=\"T_ce01a_row1_col2\" class=\"data row1 col2\" >0.016320</td>\n",
              "    </tr>\n",
              "    <tr>\n",
              "      <th id=\"T_ce01a_level0_row2\" class=\"row_heading level0 row2\" >2</th>\n",
              "      <td id=\"T_ce01a_row2_col0\" class=\"data row2 col0\" >num_comments</td>\n",
              "      <td id=\"T_ce01a_row2_col1\" class=\"data row2 col1\" >0.759996</td>\n",
              "      <td id=\"T_ce01a_row2_col2\" class=\"data row2 col2\" >-0.647254</td>\n",
              "    </tr>\n",
              "    <tr>\n",
              "      <th id=\"T_ce01a_level0_row3\" class=\"row_heading level0 row3\" >3</th>\n",
              "      <td id=\"T_ce01a_row3_col0\" class=\"data row3 col0\" >num_shares</td>\n",
              "      <td id=\"T_ce01a_row3_col1\" class=\"data row3 col1\" >0.611600</td>\n",
              "      <td id=\"T_ce01a_row3_col2\" class=\"data row3 col2\" >0.695018</td>\n",
              "    </tr>\n",
              "    <tr>\n",
              "      <th id=\"T_ce01a_level0_row4\" class=\"row_heading level0 row4\" >4</th>\n",
              "      <td id=\"T_ce01a_row4_col0\" class=\"data row4 col0\" >num_likes</td>\n",
              "      <td id=\"T_ce01a_row4_col1\" class=\"data row4 col1\" >0.008655</td>\n",
              "      <td id=\"T_ce01a_row4_col2\" class=\"data row4 col2\" >0.013703</td>\n",
              "    </tr>\n",
              "    <tr>\n",
              "      <th id=\"T_ce01a_level0_row5\" class=\"row_heading level0 row5\" >5</th>\n",
              "      <td id=\"T_ce01a_row5_col0\" class=\"data row5 col0\" >num_loves</td>\n",
              "      <td id=\"T_ce01a_row5_col1\" class=\"data row5 col1\" >0.208528</td>\n",
              "      <td id=\"T_ce01a_row5_col2\" class=\"data row5 col2\" >0.272679</td>\n",
              "    </tr>\n",
              "    <tr>\n",
              "      <th id=\"T_ce01a_level0_row6\" class=\"row_heading level0 row6\" >6</th>\n",
              "      <td id=\"T_ce01a_row6_col0\" class=\"data row6 col0\" >num_wows</td>\n",
              "      <td id=\"T_ce01a_row6_col1\" class=\"data row6 col1\" >0.058385</td>\n",
              "      <td id=\"T_ce01a_row6_col2\" class=\"data row6 col2\" >0.149854</td>\n",
              "    </tr>\n",
              "    <tr>\n",
              "      <th id=\"T_ce01a_level0_row7\" class=\"row_heading level0 row7\" >7</th>\n",
              "      <td id=\"T_ce01a_row7_col0\" class=\"data row7 col0\" >num_hahas</td>\n",
              "      <td id=\"T_ce01a_row7_col1\" class=\"data row7 col1\" >0.034210</td>\n",
              "      <td id=\"T_ce01a_row7_col2\" class=\"data row7 col2\" >0.026881</td>\n",
              "    </tr>\n",
              "    <tr>\n",
              "      <th id=\"T_ce01a_level0_row8\" class=\"row_heading level0 row8\" >8</th>\n",
              "      <td id=\"T_ce01a_row8_col0\" class=\"data row8 col0\" >num_sads</td>\n",
              "      <td id=\"T_ce01a_row8_col1\" class=\"data row8 col1\" >0.008320</td>\n",
              "      <td id=\"T_ce01a_row8_col2\" class=\"data row8 col2\" >-0.001499</td>\n",
              "    </tr>\n",
              "    <tr>\n",
              "      <th id=\"T_ce01a_level0_row9\" class=\"row_heading level0 row9\" >9</th>\n",
              "      <td id=\"T_ce01a_row9_col0\" class=\"data row9 col0\" >num_angrys</td>\n",
              "      <td id=\"T_ce01a_row9_col1\" class=\"data row9 col1\" >0.004580</td>\n",
              "      <td id=\"T_ce01a_row9_col2\" class=\"data row9 col2\" >0.004620</td>\n",
              "    </tr>\n",
              "  </tbody>\n",
              "</table>\n"
            ]
          },
          "metadata": {},
          "execution_count": 86
        }
      ]
    },
    {
      "cell_type": "markdown",
      "source": [
        "#### Clasificación con K-means"
      ],
      "metadata": {
        "id": "-Yf39jUJK2g8"
      }
    },
    {
      "cell_type": "code",
      "source": [
        "kmeans = KMeans(n_clusters=4, random_state=0)\n",
        "kmeans.fit(Xpca)\n",
        "\n",
        "y_pred = kmeans.predict(Xpca)"
      ],
      "metadata": {
        "id": "vE-9SS77F_Sl"
      },
      "execution_count": 87,
      "outputs": []
    },
    {
      "cell_type": "markdown",
      "source": [
        "Una vez entrenado el modelo con K-means, lo representaremos graficamente para ver de una forma visual la separación de los 4 grupos creados.\n",
        "\n",
        "* *Comentario tras finalizar la tarea: Tras finalizar la tarea me he dado cuenta que no había aplicado el Knee point para definir el número de cluster y que directamente he elegido 4 😅. Como el ejercicio teórico es correcto, simplemente he añadido un punto al final de todo calculando el Knee point y añadiendo una pequeña conclusión de la diferencia de resultados entre 4 y 3 clusters que son los que recomienda knee point.*"
      ],
      "metadata": {
        "id": "dATgg_CxHOWk"
      }
    },
    {
      "cell_type": "code",
      "source": [
        "fig, ax = plt.subplots()\n",
        "ax.scatter(x=Xpca[:,0], y=Xpca[:,1], c=y_pred)\n",
        "plt.title('VISUALIZATION OF CLUSTERS', fontsize = 23)"
      ],
      "metadata": {
        "colab": {
          "base_uri": "https://localhost:8080/",
          "height": 306
        },
        "id": "8wZh-Y6RHBsy",
        "outputId": "ce536f0a-603a-41be-dd53-f1ffffb0397b"
      },
      "execution_count": 88,
      "outputs": [
        {
          "output_type": "execute_result",
          "data": {
            "text/plain": [
              "Text(0.5, 1.0, 'VISUALIZATION OF CLUSTERS')"
            ]
          },
          "metadata": {},
          "execution_count": 88
        },
        {
          "output_type": "display_data",
          "data": {
            "text/plain": [
              "<Figure size 432x288 with 1 Axes>"
            ],
            "image/png": "[encoded data removed]"
          },
          "metadata": {
            "needs_background": "light"
          }
        }
      ]
    },
    {
      "cell_type": "markdown",
      "source": [
        "En el siguiente grafico podremos apreciar donde a ubicado K-means el centro de cada uno de los grupos."
      ],
      "metadata": {
        "id": "P9sFMODDHd24"
      }
    },
    {
      "cell_type": "code",
      "source": [
        "fig, ax = plt.subplots()\n",
        "ax.scatter(x=Xpca[:,0], y=Xpca[:,1], c=y_pred)\n",
        "plt.scatter(kmeans.cluster_centers_[:, 0], kmeans.cluster_centers_[:, 1], s=300, c='red')\n",
        "plt.title('VISUALIZATION OF CLUSTERS', fontsize = 23)\n"
      ],
      "metadata": {
        "colab": {
          "base_uri": "https://localhost:8080/",
          "height": 306
        },
        "id": "Vxm82ZBSPIUO",
        "outputId": "978fc61e-b8bb-4dda-e7ab-930f3f410d70"
      },
      "execution_count": 89,
      "outputs": [
        {
          "output_type": "execute_result",
          "data": {
            "text/plain": [
              "Text(0.5, 1.0, 'VISUALIZATION OF CLUSTERS')"
            ]
          },
          "metadata": {},
          "execution_count": 89
        },
        {
          "output_type": "display_data",
          "data": {
            "text/plain": [
              "<Figure size 432x288 with 1 Axes>"
            ],
            "image/png": "[encoded data removed]"
          },
          "metadata": {
            "needs_background": "light"
          }
        }
      ]
    },
    {
      "cell_type": "markdown",
      "source": [
        "Por último y para darle una aspecto más practico a la clasificación, incorporaremos la agrupación a nuestra dataframe original."
      ],
      "metadata": {
        "id": "qvvJ1cKWHlZB"
      }
    },
    {
      "cell_type": "code",
      "source": [
        "df['Cluster'] = y_pred\n",
        "df.Cluster.unique()"
      ],
      "metadata": {
        "colab": {
          "base_uri": "https://localhost:8080/"
        },
        "id": "BbouB-L_Hv96",
        "outputId": "cb82231f-0d21-48cb-e0d4-686002881a92"
      },
      "execution_count": 90,
      "outputs": [
        {
          "output_type": "execute_result",
          "data": {
            "text/plain": [
              "array([2, 0, 1, 3], dtype=int32)"
            ]
          },
          "metadata": {},
          "execution_count": 90
        }
      ]
    },
    {
      "cell_type": "code",
      "source": [
        "df.groupby(['Cluster'])[['num_comments','num_shares']].agg(['count', np.mean, max, min]).round(2)"
      ],
      "metadata": {
        "colab": {
          "base_uri": "https://localhost:8080/",
          "height": 237
        },
        "id": "xrSGQpIeWVjq",
        "outputId": "8eccca57-2314-4658-cef0-f799f4d004c4"
      },
      "execution_count": 91,
      "outputs": [
        {
          "output_type": "execute_result",
          "data": {
            "text/plain": [
              "        num_comments                       num_shares                  \n",
              "               count     mean    max   min      count    mean   max min\n",
              "Cluster                                                                \n",
              "0               6209    27.54   1186     0       6209    4.29   153   0\n",
              "1                204  2976.55   6407    18        204  503.90  2139  60\n",
              "2                603   834.50   3146     3        603  209.65   564  26\n",
              "3                 34  8832.15  20990  2903         34  774.62  3424  25"
            ],
            "text/html": [
              "\n",
              "  <div id=\"df-4e8ecbba-db35-4ab8-8743-8dade9e794c5\">\n",
              "    <div class=\"colab-df-container\">\n",
              "      <div>\n",
              "<style scoped>\n",
              "    .dataframe tbody tr th:only-of-type {\n",
              "        vertical-align: middle;\n",
              "    }\n",
              "\n",
              "    .dataframe tbody tr th {\n",
              "        vertical-align: top;\n",
              "    }\n",
              "\n",
              "    .dataframe thead tr th {\n",
              "        text-align: left;\n",
              "    }\n",
              "\n",
              "    .dataframe thead tr:last-of-type th {\n",
              "        text-align: right;\n",
              "    }\n",
              "</style>\n",
              "<table border=\"1\" class=\"dataframe\">\n",
              "  <thead>\n",
              "    <tr>\n",
              "      <th></th>\n",
              "      <th colspan=\"4\" halign=\"left\">num_comments</th>\n",
              "      <th colspan=\"4\" halign=\"left\">num_shares</th>\n",
              "    </tr>\n",
              "    <tr>\n",
              "      <th></th>\n",
              "      <th>count</th>\n",
              "      <th>mean</th>\n",
              "      <th>max</th>\n",
              "      <th>min</th>\n",
              "      <th>count</th>\n",
              "      <th>mean</th>\n",
              "      <th>max</th>\n",
              "      <th>min</th>\n",
              "    </tr>\n",
              "    <tr>\n",
              "      <th>Cluster</th>\n",
              "      <th></th>\n",
              "      <th></th>\n",
              "      <th></th>\n",
              "      <th></th>\n",
              "      <th></th>\n",
              "      <th></th>\n",
              "      <th></th>\n",
              "      <th></th>\n",
              "    </tr>\n",
              "  </thead>\n",
              "  <tbody>\n",
              "    <tr>\n",
              "      <th>0</th>\n",
              "      <td>6209</td>\n",
              "      <td>27.54</td>\n",
              "      <td>1186</td>\n",
              "      <td>0</td>\n",
              "      <td>6209</td>\n",
              "      <td>4.29</td>\n",
              "      <td>153</td>\n",
              "      <td>0</td>\n",
              "    </tr>\n",
              "    <tr>\n",
              "      <th>1</th>\n",
              "      <td>204</td>\n",
              "      <td>2976.55</td>\n",
              "      <td>6407</td>\n",
              "      <td>18</td>\n",
              "      <td>204</td>\n",
              "      <td>503.90</td>\n",
              "      <td>2139</td>\n",
              "      <td>60</td>\n",
              "    </tr>\n",
              "    <tr>\n",
              "      <th>2</th>\n",
              "      <td>603</td>\n",
              "      <td>834.50</td>\n",
              "      <td>3146</td>\n",
              "      <td>3</td>\n",
              "      <td>603</td>\n",
              "      <td>209.65</td>\n",
              "      <td>564</td>\n",
              "      <td>26</td>\n",
              "    </tr>\n",
              "    <tr>\n",
              "      <th>3</th>\n",
              "      <td>34</td>\n",
              "      <td>8832.15</td>\n",
              "      <td>20990</td>\n",
              "      <td>2903</td>\n",
              "      <td>34</td>\n",
              "      <td>774.62</td>\n",
              "      <td>3424</td>\n",
              "      <td>25</td>\n",
              "    </tr>\n",
              "  </tbody>\n",
              "</table>\n",
              "</div>\n",
              "      <button class=\"colab-df-convert\" onclick=\"convertToInteractive('df-4e8ecbba-db35-4ab8-8743-8dade9e794c5')\"\n",
              "              title=\"Convert this dataframe to an interactive table.\"\n",
              "              style=\"display:none;\">\n",
              "        \n",
              "  <svg xmlns=\"http://www.w3.org/2000/svg\" height=\"24px\"viewBox=\"0 0 24 24\"\n",
              "       width=\"24px\">\n",
              "    <path d=\"M0 0h24v24H0V0z\" fill=\"none\"/>\n",
              "    <path d=\"M18.56 5.44l.94 2.06.94-2.06 2.06-.94-2.06-.94-.94-2.06-.94 2.06-2.06.94zm-11 1L8.5 8.5l.94-2.06 2.06-.94-2.06-.94L8.5 2.5l-.94 2.06-2.06.94zm10 10l.94 2.06.94-2.06 2.06-.94-2.06-.94-.94-2.06-.94 2.06-2.06.94z\"/><path d=\"M17.41 7.96l-1.37-1.37c-.4-.4-.92-.59-1.43-.59-.52 0-1.04.2-1.43.59L10.3 9.45l-7.72 7.72c-.78.78-.78 2.05 0 2.83L4 21.41c.39.39.9.59 1.41.59.51 0 1.02-.2 1.41-.59l7.78-7.78 2.81-2.81c.8-.78.8-2.07 0-2.86zM5.41 20L4 18.59l7.72-7.72 1.47 1.35L5.41 20z\"/>\n",
              "  </svg>\n",
              "      </button>\n",
              "      \n",
              "  <style>\n",
              "    .colab-df-container {\n",
              "      display:flex;\n",
              "      flex-wrap:wrap;\n",
              "      gap: 12px;\n",
              "    }\n",
              "\n",
              "    .colab-df-convert {\n",
              "      background-color: #E8F0FE;\n",
              "      border: none;\n",
              "      border-radius: 50%;\n",
              "      cursor: pointer;\n",
              "      display: none;\n",
              "      fill: #1967D2;\n",
              "      height: 32px;\n",
              "      padding: 0 0 0 0;\n",
              "      width: 32px;\n",
              "    }\n",
              "\n",
              "    .colab-df-convert:hover {\n",
              "      background-color: #E2EBFA;\n",
              "      box-shadow: 0px 1px 2px rgba(60, 64, 67, 0.3), 0px 1px 3px 1px rgba(60, 64, 67, 0.15);\n",
              "      fill: #174EA6;\n",
              "    }\n",
              "\n",
              "    [theme=dark] .colab-df-convert {\n",
              "      background-color: #3B4455;\n",
              "      fill: #D2E3FC;\n",
              "    }\n",
              "\n",
              "    [theme=dark] .colab-df-convert:hover {\n",
              "      background-color: #434B5C;\n",
              "      box-shadow: 0px 1px 3px 1px rgba(0, 0, 0, 0.15);\n",
              "      filter: drop-shadow(0px 1px 2px rgba(0, 0, 0, 0.3));\n",
              "      fill: #FFFFFF;\n",
              "    }\n",
              "  </style>\n",
              "\n",
              "      <script>\n",
              "        const buttonEl =\n",
              "          document.querySelector('#df-4e8ecbba-db35-4ab8-8743-8dade9e794c5 button.colab-df-convert');\n",
              "        buttonEl.style.display =\n",
              "          google.colab.kernel.accessAllowed ? 'block' : 'none';\n",
              "\n",
              "        async function convertToInteractive(key) {\n",
              "          const element = document.querySelector('#df-4e8ecbba-db35-4ab8-8743-8dade9e794c5');\n",
              "          const dataTable =\n",
              "            await google.colab.kernel.invokeFunction('convertToInteractive',\n",
              "                                                     [key], {});\n",
              "          if (!dataTable) return;\n",
              "\n",
              "          const docLinkHtml = 'Like what you see? Visit the ' +\n",
              "            '<a target=\"_blank\" href=https://colab.research.google.com/notebooks/data_table.ipynb>data table notebook</a>'\n",
              "            + ' to learn more about interactive tables.';\n",
              "          element.innerHTML = '';\n",
              "          dataTable['output_type'] = 'display_data';\n",
              "          await google.colab.output.renderOutput(dataTable, element);\n",
              "          const docLink = document.createElement('div');\n",
              "          docLink.innerHTML = docLinkHtml;\n",
              "          element.appendChild(docLink);\n",
              "        }\n",
              "      </script>\n",
              "    </div>\n",
              "  </div>\n",
              "  "
            ]
          },
          "metadata": {},
          "execution_count": 91
        }
      ]
    },
    {
      "cell_type": "code",
      "source": [
        "pl = sns.countplot(x=df['Cluster'])\n",
        "pl.set_title(\"Histogram of clusters\", fontsize = 23)"
      ],
      "metadata": {
        "colab": {
          "base_uri": "https://localhost:8080/",
          "height": 320
        },
        "id": "6eiiweKcIB6j",
        "outputId": "2954a1d0-048f-403d-f27a-a325316cda0e"
      },
      "execution_count": 92,
      "outputs": [
        {
          "output_type": "execute_result",
          "data": {
            "text/plain": [
              "Text(0.5, 1.0, 'Histogram of clusters')"
            ]
          },
          "metadata": {},
          "execution_count": 92
        },
        {
          "output_type": "display_data",
          "data": {
            "text/plain": [
              "<Figure size 432x288 with 1 Axes>"
            ],
            "image/png": "[encoded data removed]"
          },
          "metadata": {
            "needs_background": "light"
          }
        }
      ]
    },
    {
      "cell_type": "markdown",
      "source": [
        "Podemos apreciar claramente la agrupación que se ha realizado a ponderado significativamente el grupo 0 con mas de 6000 posiciones y dejando los otres 3 grupos con menso de 1000 posiciones cada uno.\n",
        "\n",
        "**En el clusters 0, el mas numerosos, se concentran las entradas con menos comentarios y número de veces compartido.**"
      ],
      "metadata": {
        "id": "oBxbctMjIJTa"
      }
    },
    {
      "cell_type": "markdown",
      "metadata": {
        "id": "6YJAGjdQxznP"
      },
      "source": [
        "## Exercici 2\n",
        "###  Classifica els diferents registres utilitzant l'algorisme de clustering jeràrquic.\n",
        "\n"
      ]
    },
    {
      "cell_type": "markdown",
      "source": [
        "Primero reduciremos el dataframe al 10% para agilizar los calculos"
      ],
      "metadata": {
        "id": "Gk8D3G-0OTFg"
      }
    },
    {
      "cell_type": "code",
      "source": [
        "df_jerarquic = df.sample(frac=.10, random_state=7)\n",
        "df_jerarquic.describe().round(2).transpose()"
      ],
      "metadata": {
        "id": "8AAdxAqfw1OX",
        "colab": {
          "base_uri": "https://localhost:8080/",
          "height": 363
        },
        "outputId": "da3d3895-7604-4332-f3e0-6e02b4594f94"
      },
      "execution_count": 93,
      "outputs": [
        {
          "output_type": "execute_result",
          "data": {
            "text/plain": [
              "               count    mean     std  min   25%   50%    75%     max\n",
              "num_reactions  705.0  241.41  506.30  0.0  18.0  65.0  215.0  4710.0\n",
              "num_comments   705.0  173.19  596.84  0.0   0.0   5.0   22.0  6523.0\n",
              "num_shares     705.0   33.43  102.77  0.0   0.0   0.0    4.0   905.0\n",
              "num_likes      705.0  229.04  500.29  0.0  18.0  62.0  184.0  4710.0\n",
              "num_loves      705.0   10.60   30.32  0.0   0.0   0.0    3.0   291.0\n",
              "num_wows       705.0    0.80    3.49  0.0   0.0   0.0    0.0    76.0\n",
              "num_hahas      705.0    0.55    1.92  0.0   0.0   0.0    0.0    22.0\n",
              "num_sads       705.0    0.25    1.40  0.0   0.0   0.0    0.0    23.0\n",
              "num_angrys     705.0    0.18    1.50  0.0   0.0   0.0    0.0    31.0\n",
              "Cluster        705.0    0.20    0.58  0.0   0.0   0.0    0.0     3.0"
            ],
            "text/html": [
              "\n",
              "  <div id=\"df-de59ab1d-2383-4b09-b450-7c54cc6acece\">\n",
              "    <div class=\"colab-df-container\">\n",
              "      <div>\n",
              "<style scoped>\n",
              "    .dataframe tbody tr th:only-of-type {\n",
              "        vertical-align: middle;\n",
              "    }\n",
              "\n",
              "    .dataframe tbody tr th {\n",
              "        vertical-align: top;\n",
              "    }\n",
              "\n",
              "    .dataframe thead th {\n",
              "        text-align: right;\n",
              "    }\n",
              "</style>\n",
              "<table border=\"1\" class=\"dataframe\">\n",
              "  <thead>\n",
              "    <tr style=\"text-align: right;\">\n",
              "      <th></th>\n",
              "      <th>count</th>\n",
              "      <th>mean</th>\n",
              "      <th>std</th>\n",
              "      <th>min</th>\n",
              "      <th>25%</th>\n",
              "      <th>50%</th>\n",
              "      <th>75%</th>\n",
              "      <th>max</th>\n",
              "    </tr>\n",
              "  </thead>\n",
              "  <tbody>\n",
              "    <tr>\n",
              "      <th>num_reactions</th>\n",
              "      <td>705.0</td>\n",
              "      <td>241.41</td>\n",
              "      <td>506.30</td>\n",
              "      <td>0.0</td>\n",
              "      <td>18.0</td>\n",
              "      <td>65.0</td>\n",
              "      <td>215.0</td>\n",
              "      <td>4710.0</td>\n",
              "    </tr>\n",
              "    <tr>\n",
              "      <th>num_comments</th>\n",
              "      <td>705.0</td>\n",
              "      <td>173.19</td>\n",
              "      <td>596.84</td>\n",
              "      <td>0.0</td>\n",
              "      <td>0.0</td>\n",
              "      <td>5.0</td>\n",
              "      <td>22.0</td>\n",
              "      <td>6523.0</td>\n",
              "    </tr>\n",
              "    <tr>\n",
              "      <th>num_shares</th>\n",
              "      <td>705.0</td>\n",
              "      <td>33.43</td>\n",
              "      <td>102.77</td>\n",
              "      <td>0.0</td>\n",
              "      <td>0.0</td>\n",
              "      <td>0.0</td>\n",
              "      <td>4.0</td>\n",
              "      <td>905.0</td>\n",
              "    </tr>\n",
              "    <tr>\n",
              "      <th>num_likes</th>\n",
              "      <td>705.0</td>\n",
              "      <td>229.04</td>\n",
              "      <td>500.29</td>\n",
              "      <td>0.0</td>\n",
              "      <td>18.0</td>\n",
              "      <td>62.0</td>\n",
              "      <td>184.0</td>\n",
              "      <td>4710.0</td>\n",
              "    </tr>\n",
              "    <tr>\n",
              "      <th>num_loves</th>\n",
              "      <td>705.0</td>\n",
              "      <td>10.60</td>\n",
              "      <td>30.32</td>\n",
              "      <td>0.0</td>\n",
              "      <td>0.0</td>\n",
              "      <td>0.0</td>\n",
              "      <td>3.0</td>\n",
              "      <td>291.0</td>\n",
              "    </tr>\n",
              "    <tr>\n",
              "      <th>num_wows</th>\n",
              "      <td>705.0</td>\n",
              "      <td>0.80</td>\n",
              "      <td>3.49</td>\n",
              "      <td>0.0</td>\n",
              "      <td>0.0</td>\n",
              "      <td>0.0</td>\n",
              "      <td>0.0</td>\n",
              "      <td>76.0</td>\n",
              "    </tr>\n",
              "    <tr>\n",
              "      <th>num_hahas</th>\n",
              "      <td>705.0</td>\n",
              "      <td>0.55</td>\n",
              "      <td>1.92</td>\n",
              "      <td>0.0</td>\n",
              "      <td>0.0</td>\n",
              "      <td>0.0</td>\n",
              "      <td>0.0</td>\n",
              "      <td>22.0</td>\n",
              "    </tr>\n",
              "    <tr>\n",
              "      <th>num_sads</th>\n",
              "      <td>705.0</td>\n",
              "      <td>0.25</td>\n",
              "      <td>1.40</td>\n",
              "      <td>0.0</td>\n",
              "      <td>0.0</td>\n",
              "      <td>0.0</td>\n",
              "      <td>0.0</td>\n",
              "      <td>23.0</td>\n",
              "    </tr>\n",
              "    <tr>\n",
              "      <th>num_angrys</th>\n",
              "      <td>705.0</td>\n",
              "      <td>0.18</td>\n",
              "      <td>1.50</td>\n",
              "      <td>0.0</td>\n",
              "      <td>0.0</td>\n",
              "      <td>0.0</td>\n",
              "      <td>0.0</td>\n",
              "      <td>31.0</td>\n",
              "    </tr>\n",
              "    <tr>\n",
              "      <th>Cluster</th>\n",
              "      <td>705.0</td>\n",
              "      <td>0.20</td>\n",
              "      <td>0.58</td>\n",
              "      <td>0.0</td>\n",
              "      <td>0.0</td>\n",
              "      <td>0.0</td>\n",
              "      <td>0.0</td>\n",
              "      <td>3.0</td>\n",
              "    </tr>\n",
              "  </tbody>\n",
              "</table>\n",
              "</div>\n",
              "      <button class=\"colab-df-convert\" onclick=\"convertToInteractive('df-de59ab1d-2383-4b09-b450-7c54cc6acece')\"\n",
              "              title=\"Convert this dataframe to an interactive table.\"\n",
              "              style=\"display:none;\">\n",
              "        \n",
              "  <svg xmlns=\"http://www.w3.org/2000/svg\" height=\"24px\"viewBox=\"0 0 24 24\"\n",
              "       width=\"24px\">\n",
              "    <path d=\"M0 0h24v24H0V0z\" fill=\"none\"/>\n",
              "    <path d=\"M18.56 5.44l.94 2.06.94-2.06 2.06-.94-2.06-.94-.94-2.06-.94 2.06-2.06.94zm-11 1L8.5 8.5l.94-2.06 2.06-.94-2.06-.94L8.5 2.5l-.94 2.06-2.06.94zm10 10l.94 2.06.94-2.06 2.06-.94-2.06-.94-.94-2.06-.94 2.06-2.06.94z\"/><path d=\"M17.41 7.96l-1.37-1.37c-.4-.4-.92-.59-1.43-.59-.52 0-1.04.2-1.43.59L10.3 9.45l-7.72 7.72c-.78.78-.78 2.05 0 2.83L4 21.41c.39.39.9.59 1.41.59.51 0 1.02-.2 1.41-.59l7.78-7.78 2.81-2.81c.8-.78.8-2.07 0-2.86zM5.41 20L4 18.59l7.72-7.72 1.47 1.35L5.41 20z\"/>\n",
              "  </svg>\n",
              "      </button>\n",
              "      \n",
              "  <style>\n",
              "    .colab-df-container {\n",
              "      display:flex;\n",
              "      flex-wrap:wrap;\n",
              "      gap: 12px;\n",
              "    }\n",
              "\n",
              "    .colab-df-convert {\n",
              "      background-color: #E8F0FE;\n",
              "      border: none;\n",
              "      border-radius: 50%;\n",
              "      cursor: pointer;\n",
              "      display: none;\n",
              "      fill: #1967D2;\n",
              "      height: 32px;\n",
              "      padding: 0 0 0 0;\n",
              "      width: 32px;\n",
              "    }\n",
              "\n",
              "    .colab-df-convert:hover {\n",
              "      background-color: #E2EBFA;\n",
              "      box-shadow: 0px 1px 2px rgba(60, 64, 67, 0.3), 0px 1px 3px 1px rgba(60, 64, 67, 0.15);\n",
              "      fill: #174EA6;\n",
              "    }\n",
              "\n",
              "    [theme=dark] .colab-df-convert {\n",
              "      background-color: #3B4455;\n",
              "      fill: #D2E3FC;\n",
              "    }\n",
              "\n",
              "    [theme=dark] .colab-df-convert:hover {\n",
              "      background-color: #434B5C;\n",
              "      box-shadow: 0px 1px 3px 1px rgba(0, 0, 0, 0.15);\n",
              "      filter: drop-shadow(0px 1px 2px rgba(0, 0, 0, 0.3));\n",
              "      fill: #FFFFFF;\n",
              "    }\n",
              "  </style>\n",
              "\n",
              "      <script>\n",
              "        const buttonEl =\n",
              "          document.querySelector('#df-de59ab1d-2383-4b09-b450-7c54cc6acece button.colab-df-convert');\n",
              "        buttonEl.style.display =\n",
              "          google.colab.kernel.accessAllowed ? 'block' : 'none';\n",
              "\n",
              "        async function convertToInteractive(key) {\n",
              "          const element = document.querySelector('#df-de59ab1d-2383-4b09-b450-7c54cc6acece');\n",
              "          const dataTable =\n",
              "            await google.colab.kernel.invokeFunction('convertToInteractive',\n",
              "                                                     [key], {});\n",
              "          if (!dataTable) return;\n",
              "\n",
              "          const docLinkHtml = 'Like what you see? Visit the ' +\n",
              "            '<a target=\"_blank\" href=https://colab.research.google.com/notebooks/data_table.ipynb>data table notebook</a>'\n",
              "            + ' to learn more about interactive tables.';\n",
              "          element.innerHTML = '';\n",
              "          dataTable['output_type'] = 'display_data';\n",
              "          await google.colab.output.renderOutput(dataTable, element);\n",
              "          const docLink = document.createElement('div');\n",
              "          docLink.innerHTML = docLinkHtml;\n",
              "          element.appendChild(docLink);\n",
              "        }\n",
              "      </script>\n",
              "    </div>\n",
              "  </div>\n",
              "  "
            ]
          },
          "metadata": {},
          "execution_count": 93
        }
      ]
    },
    {
      "cell_type": "markdown",
      "source": [
        "Repetimos el mismo proceso de preprocesado y escalado del ejerciocio 1 en el nuevo dataframe"
      ],
      "metadata": {
        "id": "apQxVpXhOmAB"
      }
    },
    {
      "cell_type": "code",
      "source": [
        "#Declarationg of feature vector and target variable\n",
        "df_jerarquic = df_jerarquic.drop(['status_published'], axis=1) #La columna que hace referencia a la hora y fecha de publicación no nos será de utilidad\n",
        "\n",
        "#Convert categorical variable into integers\n",
        "le = LabelEncoder() \n",
        "df_jerarquic['status_type'] = le.fit_transform(df_jerarquic['status_type'])\n",
        "\n",
        "#Scaling\n",
        "columnsMinMax = ['status_type']\n",
        "scalerMM = MinMaxScaler().fit(df_jerarquic[columnsMinMax])\n",
        "df_jerarquic[columnsMinMax] = scalerMM.transform(df_jerarquic[columnsMinMax])\n",
        "\n",
        "\n",
        "columnsRobust =  ['num_reactions', 'num_comments',\n",
        "       'num_shares', 'num_likes', 'num_loves', 'num_wows', 'num_hahas',\n",
        "       'num_sads', 'num_angrys']\n",
        "scalerRobust = RobustScaler().fit(df_jerarquic[columnsRobust])\n",
        "df_jerarquic[columnsRobust] = scalerRobust.transform(df_jerarquic[columnsRobust])\n",
        "\n",
        "df_jerarquic.head()"
      ],
      "metadata": {
        "colab": {
          "base_uri": "https://localhost:8080/",
          "height": 206
        },
        "id": "ZRp9e_FFOmcz",
        "outputId": "fdbb383e-cd48-478e-98ea-0d07a178cd26"
      },
      "execution_count": 94,
      "outputs": [
        {
          "output_type": "execute_result",
          "data": {
            "text/plain": [
              "      status_type  num_reactions  num_comments  num_shares  num_likes  \\\n",
              "5138     1.000000      -0.015228      4.409091       19.00  -0.030120   \n",
              "479      0.333333       1.020305      0.136364        0.00   1.156627   \n",
              "6218     0.333333       0.614213      0.454545        0.25   0.662651   \n",
              "852      1.000000       0.568528      6.363636        0.75   0.686747   \n",
              "4637     1.000000       0.482234     -0.181818        4.00   0.578313   \n",
              "\n",
              "      num_loves  num_wows  num_hahas  num_sads  num_angrys  Cluster  \n",
              "5138   0.666667       0.0        3.0       0.0         0.0        0  \n",
              "479    3.000000       3.0        0.0       0.0         0.0        0  \n",
              "6218   1.000000      11.0        0.0       0.0         0.0        0  \n",
              "852    0.000000       1.0        0.0       0.0         0.0        0  \n",
              "4637   0.333333       0.0        1.0       0.0         0.0        0  "
            ],
            "text/html": [
              "\n",
              "  <div id=\"df-484b58bf-3304-41b0-ba35-ae13ba80abce\">\n",
              "    <div class=\"colab-df-container\">\n",
              "      <div>\n",
              "<style scoped>\n",
              "    .dataframe tbody tr th:only-of-type {\n",
              "        vertical-align: middle;\n",
              "    }\n",
              "\n",
              "    .dataframe tbody tr th {\n",
              "        vertical-align: top;\n",
              "    }\n",
              "\n",
              "    .dataframe thead th {\n",
              "        text-align: right;\n",
              "    }\n",
              "</style>\n",
              "<table border=\"1\" class=\"dataframe\">\n",
              "  <thead>\n",
              "    <tr style=\"text-align: right;\">\n",
              "      <th></th>\n",
              "      <th>status_type</th>\n",
              "      <th>num_reactions</th>\n",
              "      <th>num_comments</th>\n",
              "      <th>num_shares</th>\n",
              "      <th>num_likes</th>\n",
              "      <th>num_loves</th>\n",
              "      <th>num_wows</th>\n",
              "      <th>num_hahas</th>\n",
              "      <th>num_sads</th>\n",
              "      <th>num_angrys</th>\n",
              "      <th>Cluster</th>\n",
              "    </tr>\n",
              "  </thead>\n",
              "  <tbody>\n",
              "    <tr>\n",
              "      <th>5138</th>\n",
              "      <td>1.000000</td>\n",
              "      <td>-0.015228</td>\n",
              "      <td>4.409091</td>\n",
              "      <td>19.00</td>\n",
              "      <td>-0.030120</td>\n",
              "      <td>0.666667</td>\n",
              "      <td>0.0</td>\n",
              "      <td>3.0</td>\n",
              "      <td>0.0</td>\n",
              "      <td>0.0</td>\n",
              "      <td>0</td>\n",
              "    </tr>\n",
              "    <tr>\n",
              "      <th>479</th>\n",
              "      <td>0.333333</td>\n",
              "      <td>1.020305</td>\n",
              "      <td>0.136364</td>\n",
              "      <td>0.00</td>\n",
              "      <td>1.156627</td>\n",
              "      <td>3.000000</td>\n",
              "      <td>3.0</td>\n",
              "      <td>0.0</td>\n",
              "      <td>0.0</td>\n",
              "      <td>0.0</td>\n",
              "      <td>0</td>\n",
              "    </tr>\n",
              "    <tr>\n",
              "      <th>6218</th>\n",
              "      <td>0.333333</td>\n",
              "      <td>0.614213</td>\n",
              "      <td>0.454545</td>\n",
              "      <td>0.25</td>\n",
              "      <td>0.662651</td>\n",
              "      <td>1.000000</td>\n",
              "      <td>11.0</td>\n",
              "      <td>0.0</td>\n",
              "      <td>0.0</td>\n",
              "      <td>0.0</td>\n",
              "      <td>0</td>\n",
              "    </tr>\n",
              "    <tr>\n",
              "      <th>852</th>\n",
              "      <td>1.000000</td>\n",
              "      <td>0.568528</td>\n",
              "      <td>6.363636</td>\n",
              "      <td>0.75</td>\n",
              "      <td>0.686747</td>\n",
              "      <td>0.000000</td>\n",
              "      <td>1.0</td>\n",
              "      <td>0.0</td>\n",
              "      <td>0.0</td>\n",
              "      <td>0.0</td>\n",
              "      <td>0</td>\n",
              "    </tr>\n",
              "    <tr>\n",
              "      <th>4637</th>\n",
              "      <td>1.000000</td>\n",
              "      <td>0.482234</td>\n",
              "      <td>-0.181818</td>\n",
              "      <td>4.00</td>\n",
              "      <td>0.578313</td>\n",
              "      <td>0.333333</td>\n",
              "      <td>0.0</td>\n",
              "      <td>1.0</td>\n",
              "      <td>0.0</td>\n",
              "      <td>0.0</td>\n",
              "      <td>0</td>\n",
              "    </tr>\n",
              "  </tbody>\n",
              "</table>\n",
              "</div>\n",
              "      <button class=\"colab-df-convert\" onclick=\"convertToInteractive('df-484b58bf-3304-41b0-ba35-ae13ba80abce')\"\n",
              "              title=\"Convert this dataframe to an interactive table.\"\n",
              "              style=\"display:none;\">\n",
              "        \n",
              "  <svg xmlns=\"http://www.w3.org/2000/svg\" height=\"24px\"viewBox=\"0 0 24 24\"\n",
              "       width=\"24px\">\n",
              "    <path d=\"M0 0h24v24H0V0z\" fill=\"none\"/>\n",
              "    <path d=\"M18.56 5.44l.94 2.06.94-2.06 2.06-.94-2.06-.94-.94-2.06-.94 2.06-2.06.94zm-11 1L8.5 8.5l.94-2.06 2.06-.94-2.06-.94L8.5 2.5l-.94 2.06-2.06.94zm10 10l.94 2.06.94-2.06 2.06-.94-2.06-.94-.94-2.06-.94 2.06-2.06.94z\"/><path d=\"M17.41 7.96l-1.37-1.37c-.4-.4-.92-.59-1.43-.59-.52 0-1.04.2-1.43.59L10.3 9.45l-7.72 7.72c-.78.78-.78 2.05 0 2.83L4 21.41c.39.39.9.59 1.41.59.51 0 1.02-.2 1.41-.59l7.78-7.78 2.81-2.81c.8-.78.8-2.07 0-2.86zM5.41 20L4 18.59l7.72-7.72 1.47 1.35L5.41 20z\"/>\n",
              "  </svg>\n",
              "      </button>\n",
              "      \n",
              "  <style>\n",
              "    .colab-df-container {\n",
              "      display:flex;\n",
              "      flex-wrap:wrap;\n",
              "      gap: 12px;\n",
              "    }\n",
              "\n",
              "    .colab-df-convert {\n",
              "      background-color: #E8F0FE;\n",
              "      border: none;\n",
              "      border-radius: 50%;\n",
              "      cursor: pointer;\n",
              "      display: none;\n",
              "      fill: #1967D2;\n",
              "      height: 32px;\n",
              "      padding: 0 0 0 0;\n",
              "      width: 32px;\n",
              "    }\n",
              "\n",
              "    .colab-df-convert:hover {\n",
              "      background-color: #E2EBFA;\n",
              "      box-shadow: 0px 1px 2px rgba(60, 64, 67, 0.3), 0px 1px 3px 1px rgba(60, 64, 67, 0.15);\n",
              "      fill: #174EA6;\n",
              "    }\n",
              "\n",
              "    [theme=dark] .colab-df-convert {\n",
              "      background-color: #3B4455;\n",
              "      fill: #D2E3FC;\n",
              "    }\n",
              "\n",
              "    [theme=dark] .colab-df-convert:hover {\n",
              "      background-color: #434B5C;\n",
              "      box-shadow: 0px 1px 3px 1px rgba(0, 0, 0, 0.15);\n",
              "      filter: drop-shadow(0px 1px 2px rgba(0, 0, 0, 0.3));\n",
              "      fill: #FFFFFF;\n",
              "    }\n",
              "  </style>\n",
              "\n",
              "      <script>\n",
              "        const buttonEl =\n",
              "          document.querySelector('#df-484b58bf-3304-41b0-ba35-ae13ba80abce button.colab-df-convert');\n",
              "        buttonEl.style.display =\n",
              "          google.colab.kernel.accessAllowed ? 'block' : 'none';\n",
              "\n",
              "        async function convertToInteractive(key) {\n",
              "          const element = document.querySelector('#df-484b58bf-3304-41b0-ba35-ae13ba80abce');\n",
              "          const dataTable =\n",
              "            await google.colab.kernel.invokeFunction('convertToInteractive',\n",
              "                                                     [key], {});\n",
              "          if (!dataTable) return;\n",
              "\n",
              "          const docLinkHtml = 'Like what you see? Visit the ' +\n",
              "            '<a target=\"_blank\" href=https://colab.research.google.com/notebooks/data_table.ipynb>data table notebook</a>'\n",
              "            + ' to learn more about interactive tables.';\n",
              "          element.innerHTML = '';\n",
              "          dataTable['output_type'] = 'display_data';\n",
              "          await google.colab.output.renderOutput(dataTable, element);\n",
              "          const docLink = document.createElement('div');\n",
              "          docLink.innerHTML = docLinkHtml;\n",
              "          element.appendChild(docLink);\n",
              "        }\n",
              "      </script>\n",
              "    </div>\n",
              "  </div>\n",
              "  "
            ]
          },
          "metadata": {},
          "execution_count": 94
        }
      ]
    },
    {
      "cell_type": "markdown",
      "source": [
        "Aplicamos PCA pasando a 2 columnas como en el ejercicio anterior"
      ],
      "metadata": {
        "id": "2t6fw6wwYmsg"
      }
    },
    {
      "cell_type": "code",
      "source": [
        "pca = PCA(n_components=2)\n",
        "df_jerarquic_pca = pca.fit_transform(df_jerarquic)"
      ],
      "metadata": {
        "id": "TA7SZfx-YneS"
      },
      "execution_count": 95,
      "outputs": []
    },
    {
      "cell_type": "markdown",
      "source": [
        "Entrenaremos el modelo Hierarchical clustering"
      ],
      "metadata": {
        "id": "EAWM6C8vQiYw"
      }
    },
    {
      "cell_type": "code",
      "source": [
        "plt.figure(figsize=(10, 7))  \n",
        "plt.title(\"Dendrogram\")  \n",
        "dend = shc.dendrogram(shc.linkage(df_jerarquic_pca, method='ward'))"
      ],
      "metadata": {
        "colab": {
          "base_uri": "https://localhost:8080/",
          "height": 444
        },
        "id": "4Y7CaPCOQipe",
        "outputId": "161e5516-bf53-456e-897b-f84dee7e2482"
      },
      "execution_count": 96,
      "outputs": [
        {
          "output_type": "display_data",
          "data": {
            "text/plain": [
              "<Figure size 720x504 with 1 Axes>"
            ],
            "image/png": "[encoded data removed]"
          },
          "metadata": {
            "needs_background": "light"
          }
        }
      ]
    },
    {
      "cell_type": "code",
      "source": [
        "agg_cl = AgglomerativeClustering(n_clusters=4)\n",
        "agg_cl.fit_predict(df_jerarquic_pca)"
      ],
      "metadata": {
        "colab": {
          "base_uri": "https://localhost:8080/"
        },
        "id": "wDcpqXr0R3Ly",
        "outputId": "73154577-445e-46b4-9185-1d27eddb85ac"
      },
      "execution_count": 97,
      "outputs": [
        {
          "output_type": "execute_result",
          "data": {
            "text/plain": [
              "array([2, 2, 2, 2, 2, 2, 3, 2, 2, 2, 2, 2, 2, 2, 2, 2, 2, 2, 2, 2, 2, 2,\n",
              "       2, 2, 2, 2, 2, 2, 2, 2, 2, 2, 2, 2, 2, 2, 3, 2, 2, 2, 2, 2, 2, 2,\n",
              "       3, 2, 2, 2, 2, 2, 2, 3, 2, 2, 2, 2, 2, 2, 2, 2, 2, 2, 2, 2, 2, 2,\n",
              "       2, 2, 2, 2, 2, 2, 2, 2, 2, 2, 3, 2, 2, 2, 3, 2, 2, 2, 2, 2, 2, 2,\n",
              "       2, 3, 2, 2, 2, 2, 2, 2, 2, 2, 2, 2, 2, 2, 2, 2, 2, 2, 2, 2, 2, 2,\n",
              "       2, 2, 2, 2, 2, 2, 2, 2, 3, 2, 2, 2, 2, 2, 3, 2, 2, 2, 2, 2, 2, 2,\n",
              "       2, 2, 2, 2, 2, 2, 2, 1, 2, 2, 2, 2, 2, 2, 2, 2, 2, 2, 2, 2, 2, 2,\n",
              "       2, 3, 2, 2, 2, 2, 2, 2, 2, 2, 2, 2, 2, 2, 2, 2, 2, 2, 2, 2, 2, 2,\n",
              "       2, 3, 2, 2, 2, 2, 2, 2, 2, 2, 2, 2, 2, 2, 2, 2, 2, 2, 2, 0, 2, 2,\n",
              "       2, 2, 2, 3, 2, 2, 2, 2, 2, 2, 2, 2, 2, 2, 2, 2, 2, 2, 2, 3, 2, 2,\n",
              "       2, 0, 2, 2, 2, 2, 2, 2, 2, 2, 2, 2, 2, 2, 2, 2, 2, 2, 2, 2, 2, 2,\n",
              "       2, 2, 2, 2, 2, 2, 2, 3, 2, 3, 2, 2, 2, 2, 3, 2, 3, 2, 2, 2, 2, 2,\n",
              "       2, 2, 2, 2, 2, 3, 1, 2, 2, 2, 2, 2, 2, 2, 2, 2, 2, 3, 2, 2, 2, 2,\n",
              "       2, 2, 2, 2, 2, 2, 2, 2, 2, 2, 3, 2, 2, 2, 2, 2, 2, 2, 2, 3, 1, 2,\n",
              "       2, 3, 2, 2, 2, 2, 2, 2, 2, 2, 2, 2, 2, 2, 2, 2, 1, 2, 3, 2, 2, 2,\n",
              "       2, 2, 2, 2, 2, 1, 2, 2, 2, 2, 2, 2, 2, 3, 2, 2, 2, 1, 2, 2, 2, 2,\n",
              "       2, 2, 2, 2, 2, 1, 2, 2, 3, 3, 1, 2, 2, 2, 2, 2, 2, 2, 3, 2, 2, 2,\n",
              "       3, 2, 2, 2, 2, 2, 2, 2, 2, 2, 2, 2, 2, 2, 2, 2, 2, 2, 2, 2, 2, 2,\n",
              "       2, 2, 2, 2, 2, 0, 2, 2, 2, 3, 2, 2, 2, 2, 2, 2, 3, 2, 2, 3, 2, 3,\n",
              "       2, 2, 3, 2, 2, 2, 3, 2, 2, 2, 2, 3, 0, 3, 2, 2, 2, 2, 2, 2, 2, 2,\n",
              "       2, 2, 2, 2, 2, 2, 2, 2, 2, 2, 2, 2, 2, 2, 2, 2, 2, 3, 2, 2, 2, 2,\n",
              "       2, 2, 2, 3, 3, 2, 2, 2, 2, 2, 2, 2, 2, 1, 2, 2, 3, 2, 2, 2, 2, 2,\n",
              "       2, 2, 2, 2, 3, 1, 2, 2, 0, 2, 1, 2, 2, 2, 2, 3, 2, 2, 2, 2, 3, 2,\n",
              "       2, 2, 3, 2, 2, 2, 2, 2, 2, 2, 2, 2, 2, 2, 2, 2, 2, 2, 2, 3, 2, 3,\n",
              "       2, 3, 2, 3, 2, 2, 2, 2, 2, 2, 2, 2, 2, 2, 2, 2, 2, 2, 3, 3, 2, 2,\n",
              "       2, 2, 2, 2, 2, 2, 2, 2, 3, 2, 2, 2, 1, 3, 2, 2, 2, 2, 2, 2, 3, 2,\n",
              "       2, 2, 2, 2, 2, 2, 2, 2, 2, 2, 2, 2, 2, 2, 2, 2, 2, 2, 2, 2, 2, 2,\n",
              "       2, 3, 2, 2, 2, 2, 2, 3, 2, 2, 2, 2, 2, 2, 2, 2, 3, 2, 2, 2, 1, 2,\n",
              "       2, 2, 2, 2, 2, 2, 1, 2, 2, 2, 2, 2, 2, 2, 2, 2, 2, 2, 2, 2, 2, 2,\n",
              "       2, 2, 3, 3, 3, 2, 3, 2, 3, 2, 2, 2, 2, 2, 2, 2, 2, 2, 2, 2, 2, 2,\n",
              "       2, 2, 3, 2, 2, 2, 2, 2, 2, 2, 2, 2, 2, 3, 2, 1, 3, 2, 2, 2, 2, 2,\n",
              "       2, 2, 2, 2, 2, 2, 2, 2, 3, 3, 2, 2, 2, 3, 2, 2, 2, 2, 2, 2, 2, 2,\n",
              "       2])"
            ]
          },
          "metadata": {},
          "execution_count": 97
        }
      ]
    },
    {
      "cell_type": "code",
      "source": [
        "fig, ax = plt.subplots()\n",
        "ax.scatter(x=df_jerarquic_pca[:,0], y=df_jerarquic_pca[:,1], c=agg_cl.labels_)\n",
        "plt.scatter(kmeans.cluster_centers_[:, 0], kmeans.cluster_centers_[:, 1], s=300, c='red')\n",
        "plt.title('VISUALIZATION OF CLUSTERS', fontsize = 23)"
      ],
      "metadata": {
        "colab": {
          "base_uri": "https://localhost:8080/",
          "height": 306
        },
        "id": "9U0eQ8cIaTDq",
        "outputId": "59ff6203-a9da-4acc-91cb-1639340819aa"
      },
      "execution_count": 98,
      "outputs": [
        {
          "output_type": "execute_result",
          "data": {
            "text/plain": [
              "Text(0.5, 1.0, 'VISUALIZATION OF CLUSTERS')"
            ]
          },
          "metadata": {},
          "execution_count": 98
        },
        {
          "output_type": "display_data",
          "data": {
            "text/plain": [
              "<Figure size 432x288 with 1 Axes>"
            ],
            "image/png": "[encoded data removed]"
          },
          "metadata": {
            "needs_background": "light"
          }
        }
      ]
    },
    {
      "cell_type": "markdown",
      "source": [
        "Pasaremos los resultados al dataframe para poder visualizarlos"
      ],
      "metadata": {
        "id": "m75DwPApXkp7"
      }
    },
    {
      "cell_type": "code",
      "source": [
        "df_jerarquic['Cluster']=agg_cl.labels_\n",
        "df_jerarquic.Cluster.unique()"
      ],
      "metadata": {
        "colab": {
          "base_uri": "https://localhost:8080/"
        },
        "id": "W3v95-OaRutW",
        "outputId": "ab6f77da-4a82-46ca-c461-fb638b3ad049"
      },
      "execution_count": 99,
      "outputs": [
        {
          "output_type": "execute_result",
          "data": {
            "text/plain": [
              "array([2, 3, 1, 0])"
            ]
          },
          "metadata": {},
          "execution_count": 99
        }
      ]
    },
    {
      "cell_type": "code",
      "source": [
        "pl = sns.countplot(x=df_jerarquic['Cluster'])\n",
        "pl.set_title(\"Histogram of clusters\", fontsize = 23)"
      ],
      "metadata": {
        "colab": {
          "base_uri": "https://localhost:8080/",
          "height": 320
        },
        "id": "Bz4cysYaSUW7",
        "outputId": "7d7f210f-ca6b-4335-c926-205a8d9d37a0"
      },
      "execution_count": 100,
      "outputs": [
        {
          "output_type": "execute_result",
          "data": {
            "text/plain": [
              "Text(0.5, 1.0, 'Histogram of clusters')"
            ]
          },
          "metadata": {},
          "execution_count": 100
        },
        {
          "output_type": "display_data",
          "data": {
            "text/plain": [
              "<Figure size 432x288 with 1 Axes>"
            ],
            "image/png": "[encoded data removed]"
          },
          "metadata": {
            "needs_background": "light"
          }
        }
      ]
    },
    {
      "cell_type": "markdown",
      "source": [
        "A nivel visual los resultados son muy parecidos a los anteriores. Un grupo mayor de 6000 y otros 3 grupos menores que no llegan a 1000. (Tenemos en cuenta que estamos trabajando con el 10% del DataFrame)"
      ],
      "metadata": {
        "id": "2PmiLNOlXrw3"
      }
    },
    {
      "cell_type": "code",
      "source": [
        "print(\"Entrenamiento con Hierarchical clustering\")\n",
        "print('\\n')\n",
        "df_jerarquic.groupby(['Cluster'])[['num_comments','num_shares']].agg(['count', np.mean, max, min]).round(2)"
      ],
      "metadata": {
        "colab": {
          "base_uri": "https://localhost:8080/",
          "height": 289
        },
        "id": "PilMkf93TkYT",
        "outputId": "b94cf0a9-7c92-4260-85e4-ea4c16db7000"
      },
      "execution_count": 101,
      "outputs": [
        {
          "output_type": "stream",
          "name": "stdout",
          "text": [
            "Entrenamiento con Hierarchical clustering\n",
            "\n",
            "\n"
          ]
        },
        {
          "output_type": "execute_result",
          "data": {
            "text/plain": [
              "        num_comments                         num_shares                       \n",
              "               count    mean     max     min      count    mean     max    min\n",
              "Cluster                                                                       \n",
              "0                  5  243.83  296.27  196.86          5   78.30  219.75  29.50\n",
              "1                 15   93.46  172.00   56.32         15  134.98  226.25  67.25\n",
              "2                618    0.85   30.55   -0.23        618    0.82   22.00   0.00\n",
              "3                 67   33.47   80.50    0.50         67   44.30   87.25   7.25"
            ],
            "text/html": [
              "\n",
              "  <div id=\"df-e6aa5fad-4a8b-4465-b111-45cfdce5e8ed\">\n",
              "    <div class=\"colab-df-container\">\n",
              "      <div>\n",
              "<style scoped>\n",
              "    .dataframe tbody tr th:only-of-type {\n",
              "        vertical-align: middle;\n",
              "    }\n",
              "\n",
              "    .dataframe tbody tr th {\n",
              "        vertical-align: top;\n",
              "    }\n",
              "\n",
              "    .dataframe thead tr th {\n",
              "        text-align: left;\n",
              "    }\n",
              "\n",
              "    .dataframe thead tr:last-of-type th {\n",
              "        text-align: right;\n",
              "    }\n",
              "</style>\n",
              "<table border=\"1\" class=\"dataframe\">\n",
              "  <thead>\n",
              "    <tr>\n",
              "      <th></th>\n",
              "      <th colspan=\"4\" halign=\"left\">num_comments</th>\n",
              "      <th colspan=\"4\" halign=\"left\">num_shares</th>\n",
              "    </tr>\n",
              "    <tr>\n",
              "      <th></th>\n",
              "      <th>count</th>\n",
              "      <th>mean</th>\n",
              "      <th>max</th>\n",
              "      <th>min</th>\n",
              "      <th>count</th>\n",
              "      <th>mean</th>\n",
              "      <th>max</th>\n",
              "      <th>min</th>\n",
              "    </tr>\n",
              "    <tr>\n",
              "      <th>Cluster</th>\n",
              "      <th></th>\n",
              "      <th></th>\n",
              "      <th></th>\n",
              "      <th></th>\n",
              "      <th></th>\n",
              "      <th></th>\n",
              "      <th></th>\n",
              "      <th></th>\n",
              "    </tr>\n",
              "  </thead>\n",
              "  <tbody>\n",
              "    <tr>\n",
              "      <th>0</th>\n",
              "      <td>5</td>\n",
              "      <td>243.83</td>\n",
              "      <td>296.27</td>\n",
              "      <td>196.86</td>\n",
              "      <td>5</td>\n",
              "      <td>78.30</td>\n",
              "      <td>219.75</td>\n",
              "      <td>29.50</td>\n",
              "    </tr>\n",
              "    <tr>\n",
              "      <th>1</th>\n",
              "      <td>15</td>\n",
              "      <td>93.46</td>\n",
              "      <td>172.00</td>\n",
              "      <td>56.32</td>\n",
              "      <td>15</td>\n",
              "      <td>134.98</td>\n",
              "      <td>226.25</td>\n",
              "      <td>67.25</td>\n",
              "    </tr>\n",
              "    <tr>\n",
              "      <th>2</th>\n",
              "      <td>618</td>\n",
              "      <td>0.85</td>\n",
              "      <td>30.55</td>\n",
              "      <td>-0.23</td>\n",
              "      <td>618</td>\n",
              "      <td>0.82</td>\n",
              "      <td>22.00</td>\n",
              "      <td>0.00</td>\n",
              "    </tr>\n",
              "    <tr>\n",
              "      <th>3</th>\n",
              "      <td>67</td>\n",
              "      <td>33.47</td>\n",
              "      <td>80.50</td>\n",
              "      <td>0.50</td>\n",
              "      <td>67</td>\n",
              "      <td>44.30</td>\n",
              "      <td>87.25</td>\n",
              "      <td>7.25</td>\n",
              "    </tr>\n",
              "  </tbody>\n",
              "</table>\n",
              "</div>\n",
              "      <button class=\"colab-df-convert\" onclick=\"convertToInteractive('df-e6aa5fad-4a8b-4465-b111-45cfdce5e8ed')\"\n",
              "              title=\"Convert this dataframe to an interactive table.\"\n",
              "              style=\"display:none;\">\n",
              "        \n",
              "  <svg xmlns=\"http://www.w3.org/2000/svg\" height=\"24px\"viewBox=\"0 0 24 24\"\n",
              "       width=\"24px\">\n",
              "    <path d=\"M0 0h24v24H0V0z\" fill=\"none\"/>\n",
              "    <path d=\"M18.56 5.44l.94 2.06.94-2.06 2.06-.94-2.06-.94-.94-2.06-.94 2.06-2.06.94zm-11 1L8.5 8.5l.94-2.06 2.06-.94-2.06-.94L8.5 2.5l-.94 2.06-2.06.94zm10 10l.94 2.06.94-2.06 2.06-.94-2.06-.94-.94-2.06-.94 2.06-2.06.94z\"/><path d=\"M17.41 7.96l-1.37-1.37c-.4-.4-.92-.59-1.43-.59-.52 0-1.04.2-1.43.59L10.3 9.45l-7.72 7.72c-.78.78-.78 2.05 0 2.83L4 21.41c.39.39.9.59 1.41.59.51 0 1.02-.2 1.41-.59l7.78-7.78 2.81-2.81c.8-.78.8-2.07 0-2.86zM5.41 20L4 18.59l7.72-7.72 1.47 1.35L5.41 20z\"/>\n",
              "  </svg>\n",
              "      </button>\n",
              "      \n",
              "  <style>\n",
              "    .colab-df-container {\n",
              "      display:flex;\n",
              "      flex-wrap:wrap;\n",
              "      gap: 12px;\n",
              "    }\n",
              "\n",
              "    .colab-df-convert {\n",
              "      background-color: #E8F0FE;\n",
              "      border: none;\n",
              "      border-radius: 50%;\n",
              "      cursor: pointer;\n",
              "      display: none;\n",
              "      fill: #1967D2;\n",
              "      height: 32px;\n",
              "      padding: 0 0 0 0;\n",
              "      width: 32px;\n",
              "    }\n",
              "\n",
              "    .colab-df-convert:hover {\n",
              "      background-color: #E2EBFA;\n",
              "      box-shadow: 0px 1px 2px rgba(60, 64, 67, 0.3), 0px 1px 3px 1px rgba(60, 64, 67, 0.15);\n",
              "      fill: #174EA6;\n",
              "    }\n",
              "\n",
              "    [theme=dark] .colab-df-convert {\n",
              "      background-color: #3B4455;\n",
              "      fill: #D2E3FC;\n",
              "    }\n",
              "\n",
              "    [theme=dark] .colab-df-convert:hover {\n",
              "      background-color: #434B5C;\n",
              "      box-shadow: 0px 1px 3px 1px rgba(0, 0, 0, 0.15);\n",
              "      filter: drop-shadow(0px 1px 2px rgba(0, 0, 0, 0.3));\n",
              "      fill: #FFFFFF;\n",
              "    }\n",
              "  </style>\n",
              "\n",
              "      <script>\n",
              "        const buttonEl =\n",
              "          document.querySelector('#df-e6aa5fad-4a8b-4465-b111-45cfdce5e8ed button.colab-df-convert');\n",
              "        buttonEl.style.display =\n",
              "          google.colab.kernel.accessAllowed ? 'block' : 'none';\n",
              "\n",
              "        async function convertToInteractive(key) {\n",
              "          const element = document.querySelector('#df-e6aa5fad-4a8b-4465-b111-45cfdce5e8ed');\n",
              "          const dataTable =\n",
              "            await google.colab.kernel.invokeFunction('convertToInteractive',\n",
              "                                                     [key], {});\n",
              "          if (!dataTable) return;\n",
              "\n",
              "          const docLinkHtml = 'Like what you see? Visit the ' +\n",
              "            '<a target=\"_blank\" href=https://colab.research.google.com/notebooks/data_table.ipynb>data table notebook</a>'\n",
              "            + ' to learn more about interactive tables.';\n",
              "          element.innerHTML = '';\n",
              "          dataTable['output_type'] = 'display_data';\n",
              "          await google.colab.output.renderOutput(dataTable, element);\n",
              "          const docLink = document.createElement('div');\n",
              "          docLink.innerHTML = docLinkHtml;\n",
              "          element.appendChild(docLink);\n",
              "        }\n",
              "      </script>\n",
              "    </div>\n",
              "  </div>\n",
              "  "
            ]
          },
          "metadata": {},
          "execution_count": 101
        }
      ]
    },
    {
      "cell_type": "code",
      "source": [
        "print(\"Entrenamiento con K-Means\")\n",
        "print('\\n')\n",
        "df.groupby(['Cluster'])[['num_comments','num_shares']].agg(['count', np.mean, max, min]).round(2)"
      ],
      "metadata": {
        "colab": {
          "base_uri": "https://localhost:8080/",
          "height": 289
        },
        "id": "5P2RLKhyT3sC",
        "outputId": "ea7d8aa3-af6b-4c31-cbb0-4c73e87a3256"
      },
      "execution_count": 102,
      "outputs": [
        {
          "output_type": "stream",
          "name": "stdout",
          "text": [
            "Entrenamiento con K-Means\n",
            "\n",
            "\n"
          ]
        },
        {
          "output_type": "execute_result",
          "data": {
            "text/plain": [
              "        num_comments                       num_shares                  \n",
              "               count     mean    max   min      count    mean   max min\n",
              "Cluster                                                                \n",
              "0               6209    27.54   1186     0       6209    4.29   153   0\n",
              "1                204  2976.55   6407    18        204  503.90  2139  60\n",
              "2                603   834.50   3146     3        603  209.65   564  26\n",
              "3                 34  8832.15  20990  2903         34  774.62  3424  25"
            ],
            "text/html": [
              "\n",
              "  <div id=\"df-62fedf46-65f9-4caf-97ef-0d0aba5f9b31\">\n",
              "    <div class=\"colab-df-container\">\n",
              "      <div>\n",
              "<style scoped>\n",
              "    .dataframe tbody tr th:only-of-type {\n",
              "        vertical-align: middle;\n",
              "    }\n",
              "\n",
              "    .dataframe tbody tr th {\n",
              "        vertical-align: top;\n",
              "    }\n",
              "\n",
              "    .dataframe thead tr th {\n",
              "        text-align: left;\n",
              "    }\n",
              "\n",
              "    .dataframe thead tr:last-of-type th {\n",
              "        text-align: right;\n",
              "    }\n",
              "</style>\n",
              "<table border=\"1\" class=\"dataframe\">\n",
              "  <thead>\n",
              "    <tr>\n",
              "      <th></th>\n",
              "      <th colspan=\"4\" halign=\"left\">num_comments</th>\n",
              "      <th colspan=\"4\" halign=\"left\">num_shares</th>\n",
              "    </tr>\n",
              "    <tr>\n",
              "      <th></th>\n",
              "      <th>count</th>\n",
              "      <th>mean</th>\n",
              "      <th>max</th>\n",
              "      <th>min</th>\n",
              "      <th>count</th>\n",
              "      <th>mean</th>\n",
              "      <th>max</th>\n",
              "      <th>min</th>\n",
              "    </tr>\n",
              "    <tr>\n",
              "      <th>Cluster</th>\n",
              "      <th></th>\n",
              "      <th></th>\n",
              "      <th></th>\n",
              "      <th></th>\n",
              "      <th></th>\n",
              "      <th></th>\n",
              "      <th></th>\n",
              "      <th></th>\n",
              "    </tr>\n",
              "  </thead>\n",
              "  <tbody>\n",
              "    <tr>\n",
              "      <th>0</th>\n",
              "      <td>6209</td>\n",
              "      <td>27.54</td>\n",
              "      <td>1186</td>\n",
              "      <td>0</td>\n",
              "      <td>6209</td>\n",
              "      <td>4.29</td>\n",
              "      <td>153</td>\n",
              "      <td>0</td>\n",
              "    </tr>\n",
              "    <tr>\n",
              "      <th>1</th>\n",
              "      <td>204</td>\n",
              "      <td>2976.55</td>\n",
              "      <td>6407</td>\n",
              "      <td>18</td>\n",
              "      <td>204</td>\n",
              "      <td>503.90</td>\n",
              "      <td>2139</td>\n",
              "      <td>60</td>\n",
              "    </tr>\n",
              "    <tr>\n",
              "      <th>2</th>\n",
              "      <td>603</td>\n",
              "      <td>834.50</td>\n",
              "      <td>3146</td>\n",
              "      <td>3</td>\n",
              "      <td>603</td>\n",
              "      <td>209.65</td>\n",
              "      <td>564</td>\n",
              "      <td>26</td>\n",
              "    </tr>\n",
              "    <tr>\n",
              "      <th>3</th>\n",
              "      <td>34</td>\n",
              "      <td>8832.15</td>\n",
              "      <td>20990</td>\n",
              "      <td>2903</td>\n",
              "      <td>34</td>\n",
              "      <td>774.62</td>\n",
              "      <td>3424</td>\n",
              "      <td>25</td>\n",
              "    </tr>\n",
              "  </tbody>\n",
              "</table>\n",
              "</div>\n",
              "      <button class=\"colab-df-convert\" onclick=\"convertToInteractive('df-62fedf46-65f9-4caf-97ef-0d0aba5f9b31')\"\n",
              "              title=\"Convert this dataframe to an interactive table.\"\n",
              "              style=\"display:none;\">\n",
              "        \n",
              "  <svg xmlns=\"http://www.w3.org/2000/svg\" height=\"24px\"viewBox=\"0 0 24 24\"\n",
              "       width=\"24px\">\n",
              "    <path d=\"M0 0h24v24H0V0z\" fill=\"none\"/>\n",
              "    <path d=\"M18.56 5.44l.94 2.06.94-2.06 2.06-.94-2.06-.94-.94-2.06-.94 2.06-2.06.94zm-11 1L8.5 8.5l.94-2.06 2.06-.94-2.06-.94L8.5 2.5l-.94 2.06-2.06.94zm10 10l.94 2.06.94-2.06 2.06-.94-2.06-.94-.94-2.06-.94 2.06-2.06.94z\"/><path d=\"M17.41 7.96l-1.37-1.37c-.4-.4-.92-.59-1.43-.59-.52 0-1.04.2-1.43.59L10.3 9.45l-7.72 7.72c-.78.78-.78 2.05 0 2.83L4 21.41c.39.39.9.59 1.41.59.51 0 1.02-.2 1.41-.59l7.78-7.78 2.81-2.81c.8-.78.8-2.07 0-2.86zM5.41 20L4 18.59l7.72-7.72 1.47 1.35L5.41 20z\"/>\n",
              "  </svg>\n",
              "      </button>\n",
              "      \n",
              "  <style>\n",
              "    .colab-df-container {\n",
              "      display:flex;\n",
              "      flex-wrap:wrap;\n",
              "      gap: 12px;\n",
              "    }\n",
              "\n",
              "    .colab-df-convert {\n",
              "      background-color: #E8F0FE;\n",
              "      border: none;\n",
              "      border-radius: 50%;\n",
              "      cursor: pointer;\n",
              "      display: none;\n",
              "      fill: #1967D2;\n",
              "      height: 32px;\n",
              "      padding: 0 0 0 0;\n",
              "      width: 32px;\n",
              "    }\n",
              "\n",
              "    .colab-df-convert:hover {\n",
              "      background-color: #E2EBFA;\n",
              "      box-shadow: 0px 1px 2px rgba(60, 64, 67, 0.3), 0px 1px 3px 1px rgba(60, 64, 67, 0.15);\n",
              "      fill: #174EA6;\n",
              "    }\n",
              "\n",
              "    [theme=dark] .colab-df-convert {\n",
              "      background-color: #3B4455;\n",
              "      fill: #D2E3FC;\n",
              "    }\n",
              "\n",
              "    [theme=dark] .colab-df-convert:hover {\n",
              "      background-color: #434B5C;\n",
              "      box-shadow: 0px 1px 3px 1px rgba(0, 0, 0, 0.15);\n",
              "      filter: drop-shadow(0px 1px 2px rgba(0, 0, 0, 0.3));\n",
              "      fill: #FFFFFF;\n",
              "    }\n",
              "  </style>\n",
              "\n",
              "      <script>\n",
              "        const buttonEl =\n",
              "          document.querySelector('#df-62fedf46-65f9-4caf-97ef-0d0aba5f9b31 button.colab-df-convert');\n",
              "        buttonEl.style.display =\n",
              "          google.colab.kernel.accessAllowed ? 'block' : 'none';\n",
              "\n",
              "        async function convertToInteractive(key) {\n",
              "          const element = document.querySelector('#df-62fedf46-65f9-4caf-97ef-0d0aba5f9b31');\n",
              "          const dataTable =\n",
              "            await google.colab.kernel.invokeFunction('convertToInteractive',\n",
              "                                                     [key], {});\n",
              "          if (!dataTable) return;\n",
              "\n",
              "          const docLinkHtml = 'Like what you see? Visit the ' +\n",
              "            '<a target=\"_blank\" href=https://colab.research.google.com/notebooks/data_table.ipynb>data table notebook</a>'\n",
              "            + ' to learn more about interactive tables.';\n",
              "          element.innerHTML = '';\n",
              "          dataTable['output_type'] = 'display_data';\n",
              "          await google.colab.output.renderOutput(dataTable, element);\n",
              "          const docLink = document.createElement('div');\n",
              "          docLink.innerHTML = docLinkHtml;\n",
              "          element.appendChild(docLink);\n",
              "        }\n",
              "      </script>\n",
              "    </div>\n",
              "  </div>\n",
              "  "
            ]
          },
          "metadata": {},
          "execution_count": 102
        }
      ]
    },
    {
      "cell_type": "markdown",
      "source": [
        "Apreciando los resultados númericos podemos decir que la agrupación es similar aunque no identica. \n",
        "\n",
        "Si nos centramos en el grupo más numerosos se aprecia rápidamente que Hierarchical clustering ha sido más agresivo (a la baja) a la hora de agrupar los comentarios y veces compartidos reduciendo el rango aún más respecto a K-Means"
      ],
      "metadata": {
        "id": "dAt92e0LW6bd"
      }
    },
    {
      "cell_type": "markdown",
      "metadata": {
        "id": "tD4lE3POxFek"
      },
      "source": [
        "## Exercici 3\n",
        "### Calcula el rendiment del clustering mitjançant un paràmetre com pot ser silhouette."
      ]
    },
    {
      "cell_type": "markdown",
      "source": [
        "Calculamos silhouette score para diferentes valores de k.\n",
        "\n",
        "\n",
        "Cuanto más alta sea la puntuación de Silhouette, más altas serán las distancias y más definidos estarán los límites de los clusters."
      ],
      "metadata": {
        "id": "FlJhOqRwa3vQ"
      }
    },
    {
      "cell_type": "markdown",
      "source": [
        "#### Silhouette para K-Means"
      ],
      "metadata": {
        "id": "fp3II_TP5UKd"
      }
    },
    {
      "cell_type": "code",
      "source": [
        "silouette_coefficients = []\n",
        "\n",
        "for k in range(2, 11):\n",
        "  model = KMeans(n_clusters=k)\n",
        "  model.fit(Xpca)\n",
        "  score = silhouette_score(Xpca, model.labels_)\n",
        "  silouette_coefficients.append(score)"
      ],
      "metadata": {
        "id": "n4IflCGVH5BB"
      },
      "execution_count": 103,
      "outputs": []
    },
    {
      "cell_type": "code",
      "source": [
        "fig, ax = plt.subplots()\n",
        "ax.plot(range(2, 11), silouette_coefficients)\n",
        "plt.title('K-Means Silouette Coefficients', fontsize = 23)\n",
        "plt.xlabel('K') \n",
        "plt.ylabel('coefficient') "
      ],
      "metadata": {
        "colab": {
          "base_uri": "https://localhost:8080/",
          "height": 320
        },
        "id": "hztDvYHCPIJK",
        "outputId": "2ae5e59f-adf0-4df1-94d0-391aa1b35243"
      },
      "execution_count": 104,
      "outputs": [
        {
          "output_type": "execute_result",
          "data": {
            "text/plain": [
              "Text(0, 0.5, 'coefficient')"
            ]
          },
          "metadata": {},
          "execution_count": 104
        },
        {
          "output_type": "display_data",
          "data": {
            "text/plain": [
              "<Figure size 432x288 with 1 Axes>"
            ],
            "image/png": "[encoded data removed]"
          },
          "metadata": {
            "needs_background": "light"
          }
        }
      ]
    },
    {
      "cell_type": "markdown",
      "source": [
        "#### Silhouette Hierarchical clustering"
      ],
      "metadata": {
        "id": "toqELz0i5gPN"
      }
    },
    {
      "cell_type": "code",
      "source": [
        "silouette_coefficients = []\n",
        "\n",
        "for k in range(2, 11):\n",
        "  agg_cl = AgglomerativeClustering(n_clusters=k)\n",
        "  agg_cl.fit_predict(df_jerarquic_pca)\n",
        "  score = silhouette_score(df_jerarquic_pca, agg_cl.labels_)\n",
        "  silouette_coefficients.append(score)"
      ],
      "metadata": {
        "id": "WnLeUQct5gPO"
      },
      "execution_count": 105,
      "outputs": []
    },
    {
      "cell_type": "code",
      "source": [
        "fig, ax = plt.subplots()\n",
        "ax.plot(range(2, 11), silouette_coefficients)\n",
        "plt.title('Hierarchical Silouette Coefficients', fontsize = 23)\n",
        "plt.xlabel('K') \n",
        "plt.ylabel('coefficient') "
      ],
      "metadata": {
        "colab": {
          "base_uri": "https://localhost:8080/",
          "height": 320
        },
        "outputId": "ae3b70c1-281f-44f7-c9e0-51b90de2ecc5",
        "id": "lAwLaZZ55gPQ"
      },
      "execution_count": 117,
      "outputs": [
        {
          "output_type": "execute_result",
          "data": {
            "text/plain": [
              "Text(0, 0.5, 'coefficient')"
            ]
          },
          "metadata": {},
          "execution_count": 117
        },
        {
          "output_type": "display_data",
          "data": {
            "text/plain": [
              "<Figure size 432x288 with 1 Axes>"
            ],
            "image/png": "[encoded data removed]"
          },
          "metadata": {
            "needs_background": "light"
          }
        }
      ]
    },
    {
      "cell_type": "markdown",
      "source": [
        "Tras silhouette score concluimos que quizas el número de clusters adecuado debería de haber sido 2. Coincide en ambos modelos.\n",
        "\n",
        "Según Hierarchical model entre 3 y 9 no habría mucha diferencia.\n",
        "\n",
        "Para K-Means esta claro que después de 2 clusters, sería 3 los idoneos, pero no con mucha diferencia respecto a tener 5 6 o 7 clusters."
      ],
      "metadata": {
        "id": "RrKNl2dwbUcg"
      }
    },
    {
      "cell_type": "markdown",
      "source": [
        "## Knee Point"
      ],
      "metadata": {
        "id": "biyi_rcW5BoT"
      }
    },
    {
      "cell_type": "markdown",
      "source": [
        "El knee point se define como el punto de máxima curvatura en un sistema. Es apropiado parala selección de un valor apropiado de k en K-means clustering."
      ],
      "metadata": {
        "id": "ZNG5JeZm_iEU"
      }
    },
    {
      "cell_type": "code",
      "source": [
        "inertia = []\n",
        "for n in range (1,9): \n",
        "    kmeans = KMeans(n_clusters= n, random_state=42)\n",
        "    kmeans.fit(Xpca)\n",
        "    inertia.append(kmeans.inertia_)"
      ],
      "metadata": {
        "id": "Xipzjj6B84x9"
      },
      "execution_count": 118,
      "outputs": []
    },
    {
      "cell_type": "code",
      "source": [
        "plt.figure(figsize= (15,6))\n",
        "plt.plot(np.arange(1 , 9) , inertia , 'o')\n",
        "plt.plot(np.arange(1 , 9) , inertia , '-' , alpha = 0.25)\n",
        "plt.xlabel('Number of Clusters') , plt.ylabel('Inertia')\n",
        "plt.title('KNEE POINT DETECTION');"
      ],
      "metadata": {
        "colab": {
          "base_uri": "https://localhost:8080/",
          "height": 404
        },
        "id": "2kvNCDgg9LU4",
        "outputId": "3e6bbc5b-ba0a-4e60-fdee-bc415edb6d6a"
      },
      "execution_count": 119,
      "outputs": [
        {
          "output_type": "display_data",
          "data": {
            "text/plain": [
              "<Figure size 1080x432 with 1 Axes>"
            ],
            "image/png": "[encoded data removed]"
          },
          "metadata": {
            "needs_background": "light"
          }
        }
      ]
    },
    {
      "cell_type": "code",
      "source": [
        "kn = KneeLocator(x=list(range (1,9)), y=inertia, curve='convex', direction='decreasing')\n",
        "kn.knee"
      ],
      "metadata": {
        "colab": {
          "base_uri": "https://localhost:8080/"
        },
        "id": "BjPb5Xs59cnO",
        "outputId": "035445bd-a515-47f2-d2c3-96e261e52133"
      },
      "execution_count": 128,
      "outputs": [
        {
          "output_type": "execute_result",
          "data": {
            "text/plain": [
              "3"
            ]
          },
          "metadata": {},
          "execution_count": 128
        }
      ]
    },
    {
      "cell_type": "markdown",
      "source": [
        "El número optimo de clusters es 3 según Knee Point. \n",
        "\n",
        "Rehacemos el ejercicio 1 a continuación y vemos en que se diferencia."
      ],
      "metadata": {
        "id": "cR72dpym-6rd"
      }
    },
    {
      "cell_type": "code",
      "source": [
        "kmeans = KMeans(n_clusters=3, random_state=0)\n",
        "kmeans.fit(Xpca)\n",
        "\n",
        "y_pred = kmeans.predict(Xpca)"
      ],
      "metadata": {
        "id": "2QdeBLVoclrH"
      },
      "execution_count": 129,
      "outputs": []
    },
    {
      "cell_type": "code",
      "source": [
        "fig, ax = plt.subplots()\n",
        "ax.scatter(x=Xpca[:,0], y=Xpca[:,1], c=y_pred)\n",
        "plt.scatter(kmeans.cluster_centers_[:, 0], kmeans.cluster_centers_[:, 1], s=300, c='red')\n",
        "plt.title('VISUALIZATION OF CLUSTERS', fontsize = 23)"
      ],
      "metadata": {
        "colab": {
          "base_uri": "https://localhost:8080/",
          "height": 306
        },
        "id": "8bDhwnzReF0i",
        "outputId": "0cf8328f-1fff-4cb4-97fe-25a44e8a740a"
      },
      "execution_count": 130,
      "outputs": [
        {
          "output_type": "execute_result",
          "data": {
            "text/plain": [
              "Text(0.5, 1.0, 'VISUALIZATION OF CLUSTERS')"
            ]
          },
          "metadata": {},
          "execution_count": 130
        },
        {
          "output_type": "display_data",
          "data": {
            "text/plain": [
              "<Figure size 432x288 with 1 Axes>"
            ],
            "image/png": "[encoded data removed]"
          },
          "metadata": {
            "needs_background": "light"
          }
        }
      ]
    },
    {
      "cell_type": "code",
      "source": [
        "df['Cluster2'] = y_pred\n",
        "pl = sns.countplot(x=df['Cluster2'])\n",
        "pl.set_title(\"Histogram of clusters\", fontsize = 23)"
      ],
      "metadata": {
        "colab": {
          "base_uri": "https://localhost:8080/",
          "height": 320
        },
        "id": "wIME4diTeMh9",
        "outputId": "74d62449-50dc-46f5-9a49-63a67c8be474"
      },
      "execution_count": 131,
      "outputs": [
        {
          "output_type": "execute_result",
          "data": {
            "text/plain": [
              "Text(0.5, 1.0, 'Histogram of clusters')"
            ]
          },
          "metadata": {},
          "execution_count": 131
        },
        {
          "output_type": "display_data",
          "data": {
            "text/plain": [
              "<Figure size 432x288 with 1 Axes>"
            ],
            "image/png": "[encoded data removed]"
          },
          "metadata": {
            "needs_background": "light"
          }
        }
      ]
    },
    {
      "cell_type": "code",
      "source": [
        "print(\"Entrenamiento con 3 Clusters\")\n",
        "print(df.groupby(['Cluster2'])[['num_comments','num_shares']].agg(['count', np.mean, max, min]).round(2))\n",
        "print('\\n')\n",
        "print(\"Entrenamiento con 4 Clusters\")\n",
        "print(df.groupby(['Cluster'])[['num_comments','num_shares']].agg(['count', np.mean, max, min]).round(2) )"
      ],
      "metadata": {
        "colab": {
          "base_uri": "https://localhost:8080/"
        },
        "id": "Kub0q3-YeKMe",
        "outputId": "c9cb3d3a-38b4-4c7b-b7ee-324d56094af9"
      },
      "execution_count": 133,
      "outputs": [
        {
          "output_type": "stream",
          "name": "stdout",
          "text": [
            "Entrenamiento con 3 Clusters\n",
            "         num_comments                       num_shares                  \n",
            "                count     mean    max   min      count    mean   max min\n",
            "Cluster2                                                                \n",
            "0                6495    50.59   1686     0       6495   10.63   295   0\n",
            "1                 483  1593.37   5000    18        483  337.14  1260  34\n",
            "2                  72  6715.65  20990  1778         72  698.04  3424  25\n",
            "\n",
            "\n",
            "Entrenamiento con 4 Clusters\n",
            "        num_comments                       num_shares                  \n",
            "               count     mean    max   min      count    mean   max min\n",
            "Cluster                                                                \n",
            "0               6209    27.54   1186     0       6209    4.29   153   0\n",
            "1                204  2976.55   6407    18        204  503.90  2139  60\n",
            "2                603   834.50   3146     3        603  209.65   564  26\n",
            "3                 34  8832.15  20990  2903         34  774.62  3424  25\n"
          ]
        }
      ]
    },
    {
      "cell_type": "markdown",
      "source": [
        "La agrupación que se hace con 3 clusters respecto a 4 es muy similar.En el cluster mas numerosos se concentran las entradas con menos comentarios y menos número de veces compartido.\n",
        "\n",
        "Es decir, el apesar de que el número de clusters a cambiado, el agrupamiento sigue siendo similar y bajo los mismos criterios."
      ],
      "metadata": {
        "id": "wW78kd2UzQOT"
      }
    }
  ]
}